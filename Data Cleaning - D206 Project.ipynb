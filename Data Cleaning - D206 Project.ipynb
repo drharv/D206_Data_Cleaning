{
 "cells": [
  {
   "cell_type": "markdown",
   "metadata": {},
   "source": [
    "# Data Cleaning - D206 Project\n",
    "\n",
    "## Medical Data"
   ]
  },
  {
   "cell_type": "markdown",
   "metadata": {},
   "source": [
    "\n",
    "For this project, I have chosen the medical data set (\"medical_raw data.csv\").  This data contains information about patients at a hospital, including whether or not they were readmitted.  Readmission of patients is a problem in the medical industry, and hospitals are penalized based on excessive readmissions."
   ]
  },
  {
   "cell_type": "code",
   "execution_count": 1,
   "metadata": {},
   "outputs": [
    {
     "data": {
      "text/plain": [
       "(10000, 53)"
      ]
     },
     "execution_count": 1,
     "metadata": {},
     "output_type": "execute_result"
    }
   ],
   "source": [
    "import pandas as pd\n",
    "import numpy as np\n",
    "\n",
    "dfMed = pd.read_csv('medical_raw data.csv')\n",
    "dfMed.shape"
   ]
  },
  {
   "cell_type": "markdown",
   "metadata": {},
   "source": [
    "The dataset contains 10000 rows and 53 columns."
   ]
  },
  {
   "cell_type": "markdown",
   "metadata": {},
   "source": [
    "### Part I: Research Question \n",
    "#### A. Describe one question or decision that you will address using the data set you chose. The summarized question or decision must be relevant to a realistic organizational need or situation.\n",
    "\n",
    "We will attempt the most basic question in order to lower readmission rates - Can we determine which parameters drive higher rates of readmission?"
   ]
  },
  {
   "cell_type": "markdown",
   "metadata": {},
   "source": [
    "#### B.  Describe the variables in the data set and indicate the specific type of data being described. Use examples from the data set that support your claims. \n",
    "\n",
    "First we will load the file and look at the top few records of each column."
   ]
  },
  {
   "cell_type": "code",
   "execution_count": 2,
   "metadata": {},
   "outputs": [
    {
     "data": {
      "text/html": [
       "<div>\n",
       "<style scoped>\n",
       "    .dataframe tbody tr th:only-of-type {\n",
       "        vertical-align: middle;\n",
       "    }\n",
       "\n",
       "    .dataframe tbody tr th {\n",
       "        vertical-align: top;\n",
       "    }\n",
       "\n",
       "    .dataframe thead th {\n",
       "        text-align: right;\n",
       "    }\n",
       "</style>\n",
       "<table border=\"1\" class=\"dataframe\">\n",
       "  <thead>\n",
       "    <tr style=\"text-align: right;\">\n",
       "      <th></th>\n",
       "      <th>Unnamed: 0</th>\n",
       "      <th>ID</th>\n",
       "      <th>Customer_id</th>\n",
       "      <th>Interaction</th>\n",
       "      <th>UID</th>\n",
       "      <th>zip</th>\n",
       "      <th>Lat</th>\n",
       "      <th>Lng</th>\n",
       "      <th>City</th>\n",
       "      <th>State</th>\n",
       "      <th>Population</th>\n",
       "      <th>County</th>\n",
       "      <th>Area</th>\n",
       "      <th>Timezone</th>\n",
       "      <th>Job</th>\n",
       "      <th>Children</th>\n",
       "      <th>Age</th>\n",
       "      <th>Education</th>\n",
       "      <th>Employment</th>\n",
       "      <th>Income</th>\n",
       "      <th>Marital</th>\n",
       "      <th>ReAdmis</th>\n",
       "      <th>Gender</th>\n",
       "      <th>vitD_levels</th>\n",
       "      <th>doc_visits</th>\n",
       "      <th>full_meals_eaten</th>\n",
       "      <th>vitD_supp</th>\n",
       "      <th>Soft_drink</th>\n",
       "      <th>Initial_Admin</th>\n",
       "      <th>HighBlood</th>\n",
       "      <th>Stroke</th>\n",
       "      <th>Complication_Risk</th>\n",
       "      <th>Overweight</th>\n",
       "      <th>Arthritis</th>\n",
       "      <th>Diabetes</th>\n",
       "      <th>Hyperlipidemia</th>\n",
       "      <th>BackPain</th>\n",
       "      <th>Anxiety</th>\n",
       "      <th>Allergic_rhinitis</th>\n",
       "      <th>Reflux_esophagitis</th>\n",
       "      <th>Asthma</th>\n",
       "      <th>Services</th>\n",
       "      <th>Initial_Days</th>\n",
       "      <th>TotalCharge</th>\n",
       "      <th>Additional_Charges</th>\n",
       "      <th>item1</th>\n",
       "      <th>item2</th>\n",
       "      <th>item3</th>\n",
       "      <th>item4</th>\n",
       "      <th>item5</th>\n",
       "      <th>item6</th>\n",
       "      <th>item7</th>\n",
       "      <th>item8</th>\n",
       "    </tr>\n",
       "  </thead>\n",
       "  <tbody>\n",
       "    <tr>\n",
       "      <th>0</th>\n",
       "      <td>1</td>\n",
       "      <td>1</td>\n",
       "      <td>C412403</td>\n",
       "      <td>8cd49b13-f45a-4b47-a2bd-173ffa932c2f</td>\n",
       "      <td>3a83ddb66e2ae73798bdf1d705dc0932</td>\n",
       "      <td>35621</td>\n",
       "      <td>34.34960</td>\n",
       "      <td>-86.72508</td>\n",
       "      <td>Eva</td>\n",
       "      <td>AL</td>\n",
       "      <td>2951</td>\n",
       "      <td>Morgan</td>\n",
       "      <td>Suburban</td>\n",
       "      <td>America/Chicago</td>\n",
       "      <td>Psychologist, sport and exercise</td>\n",
       "      <td>1.0</td>\n",
       "      <td>53.0</td>\n",
       "      <td>Some College, Less than 1 Year</td>\n",
       "      <td>Full Time</td>\n",
       "      <td>86575.93</td>\n",
       "      <td>Divorced</td>\n",
       "      <td>No</td>\n",
       "      <td>Male</td>\n",
       "      <td>17.802330</td>\n",
       "      <td>6</td>\n",
       "      <td>0</td>\n",
       "      <td>0</td>\n",
       "      <td>NaN</td>\n",
       "      <td>Emergency Admission</td>\n",
       "      <td>Yes</td>\n",
       "      <td>No</td>\n",
       "      <td>Medium</td>\n",
       "      <td>0.0</td>\n",
       "      <td>Yes</td>\n",
       "      <td>Yes</td>\n",
       "      <td>No</td>\n",
       "      <td>Yes</td>\n",
       "      <td>1.0</td>\n",
       "      <td>Yes</td>\n",
       "      <td>No</td>\n",
       "      <td>Yes</td>\n",
       "      <td>Blood Work</td>\n",
       "      <td>10.585770</td>\n",
       "      <td>3191.048774</td>\n",
       "      <td>17939.403417</td>\n",
       "      <td>3</td>\n",
       "      <td>3</td>\n",
       "      <td>2</td>\n",
       "      <td>2</td>\n",
       "      <td>4</td>\n",
       "      <td>3</td>\n",
       "      <td>3</td>\n",
       "      <td>4</td>\n",
       "    </tr>\n",
       "    <tr>\n",
       "      <th>1</th>\n",
       "      <td>2</td>\n",
       "      <td>2</td>\n",
       "      <td>Z919181</td>\n",
       "      <td>d2450b70-0337-4406-bdbb-bc1037f1734c</td>\n",
       "      <td>176354c5eef714957d486009feabf195</td>\n",
       "      <td>32446</td>\n",
       "      <td>30.84513</td>\n",
       "      <td>-85.22907</td>\n",
       "      <td>Marianna</td>\n",
       "      <td>FL</td>\n",
       "      <td>11303</td>\n",
       "      <td>Jackson</td>\n",
       "      <td>Urban</td>\n",
       "      <td>America/Chicago</td>\n",
       "      <td>Community development worker</td>\n",
       "      <td>3.0</td>\n",
       "      <td>51.0</td>\n",
       "      <td>Some College, 1 or More Years, No Degree</td>\n",
       "      <td>Full Time</td>\n",
       "      <td>46805.99</td>\n",
       "      <td>Married</td>\n",
       "      <td>No</td>\n",
       "      <td>Female</td>\n",
       "      <td>18.994640</td>\n",
       "      <td>4</td>\n",
       "      <td>2</td>\n",
       "      <td>1</td>\n",
       "      <td>No</td>\n",
       "      <td>Emergency Admission</td>\n",
       "      <td>Yes</td>\n",
       "      <td>No</td>\n",
       "      <td>High</td>\n",
       "      <td>1.0</td>\n",
       "      <td>No</td>\n",
       "      <td>No</td>\n",
       "      <td>No</td>\n",
       "      <td>No</td>\n",
       "      <td>NaN</td>\n",
       "      <td>No</td>\n",
       "      <td>Yes</td>\n",
       "      <td>No</td>\n",
       "      <td>Intravenous</td>\n",
       "      <td>15.129562</td>\n",
       "      <td>4214.905346</td>\n",
       "      <td>17612.998119</td>\n",
       "      <td>3</td>\n",
       "      <td>4</td>\n",
       "      <td>3</td>\n",
       "      <td>4</td>\n",
       "      <td>4</td>\n",
       "      <td>4</td>\n",
       "      <td>3</td>\n",
       "      <td>3</td>\n",
       "    </tr>\n",
       "    <tr>\n",
       "      <th>2</th>\n",
       "      <td>3</td>\n",
       "      <td>3</td>\n",
       "      <td>F995323</td>\n",
       "      <td>a2057123-abf5-4a2c-abad-8ffe33512562</td>\n",
       "      <td>e19a0fa00aeda885b8a436757e889bc9</td>\n",
       "      <td>57110</td>\n",
       "      <td>43.54321</td>\n",
       "      <td>-96.63772</td>\n",
       "      <td>Sioux Falls</td>\n",
       "      <td>SD</td>\n",
       "      <td>17125</td>\n",
       "      <td>Minnehaha</td>\n",
       "      <td>Suburban</td>\n",
       "      <td>America/Chicago</td>\n",
       "      <td>Chief Executive Officer</td>\n",
       "      <td>3.0</td>\n",
       "      <td>53.0</td>\n",
       "      <td>Some College, 1 or More Years, No Degree</td>\n",
       "      <td>Retired</td>\n",
       "      <td>14370.14</td>\n",
       "      <td>Widowed</td>\n",
       "      <td>No</td>\n",
       "      <td>Female</td>\n",
       "      <td>17.415889</td>\n",
       "      <td>4</td>\n",
       "      <td>1</td>\n",
       "      <td>0</td>\n",
       "      <td>No</td>\n",
       "      <td>Elective Admission</td>\n",
       "      <td>Yes</td>\n",
       "      <td>No</td>\n",
       "      <td>Medium</td>\n",
       "      <td>1.0</td>\n",
       "      <td>No</td>\n",
       "      <td>Yes</td>\n",
       "      <td>No</td>\n",
       "      <td>No</td>\n",
       "      <td>NaN</td>\n",
       "      <td>No</td>\n",
       "      <td>No</td>\n",
       "      <td>No</td>\n",
       "      <td>Blood Work</td>\n",
       "      <td>4.772177</td>\n",
       "      <td>2177.586768</td>\n",
       "      <td>17505.192460</td>\n",
       "      <td>2</td>\n",
       "      <td>4</td>\n",
       "      <td>4</td>\n",
       "      <td>4</td>\n",
       "      <td>3</td>\n",
       "      <td>4</td>\n",
       "      <td>3</td>\n",
       "      <td>3</td>\n",
       "    </tr>\n",
       "    <tr>\n",
       "      <th>3</th>\n",
       "      <td>4</td>\n",
       "      <td>4</td>\n",
       "      <td>A879973</td>\n",
       "      <td>1dec528d-eb34-4079-adce-0d7a40e82205</td>\n",
       "      <td>cd17d7b6d152cb6f23957346d11c3f07</td>\n",
       "      <td>56072</td>\n",
       "      <td>43.89744</td>\n",
       "      <td>-93.51479</td>\n",
       "      <td>New Richland</td>\n",
       "      <td>MN</td>\n",
       "      <td>2162</td>\n",
       "      <td>Waseca</td>\n",
       "      <td>Suburban</td>\n",
       "      <td>America/Chicago</td>\n",
       "      <td>Early years teacher</td>\n",
       "      <td>0.0</td>\n",
       "      <td>78.0</td>\n",
       "      <td>GED or Alternative Credential</td>\n",
       "      <td>Retired</td>\n",
       "      <td>39741.49</td>\n",
       "      <td>Married</td>\n",
       "      <td>No</td>\n",
       "      <td>Male</td>\n",
       "      <td>17.420079</td>\n",
       "      <td>4</td>\n",
       "      <td>1</td>\n",
       "      <td>0</td>\n",
       "      <td>No</td>\n",
       "      <td>Elective Admission</td>\n",
       "      <td>No</td>\n",
       "      <td>Yes</td>\n",
       "      <td>Medium</td>\n",
       "      <td>0.0</td>\n",
       "      <td>Yes</td>\n",
       "      <td>No</td>\n",
       "      <td>No</td>\n",
       "      <td>No</td>\n",
       "      <td>NaN</td>\n",
       "      <td>No</td>\n",
       "      <td>Yes</td>\n",
       "      <td>Yes</td>\n",
       "      <td>Blood Work</td>\n",
       "      <td>1.714879</td>\n",
       "      <td>2465.118965</td>\n",
       "      <td>12993.437350</td>\n",
       "      <td>3</td>\n",
       "      <td>5</td>\n",
       "      <td>5</td>\n",
       "      <td>3</td>\n",
       "      <td>4</td>\n",
       "      <td>5</td>\n",
       "      <td>5</td>\n",
       "      <td>5</td>\n",
       "    </tr>\n",
       "    <tr>\n",
       "      <th>4</th>\n",
       "      <td>5</td>\n",
       "      <td>5</td>\n",
       "      <td>C544523</td>\n",
       "      <td>5885f56b-d6da-43a3-8760-83583af94266</td>\n",
       "      <td>d2f0425877b10ed6bb381f3e2579424a</td>\n",
       "      <td>23181</td>\n",
       "      <td>37.59894</td>\n",
       "      <td>-76.88958</td>\n",
       "      <td>West Point</td>\n",
       "      <td>VA</td>\n",
       "      <td>5287</td>\n",
       "      <td>King William</td>\n",
       "      <td>Rural</td>\n",
       "      <td>America/New_York</td>\n",
       "      <td>Health promotion specialist</td>\n",
       "      <td>NaN</td>\n",
       "      <td>22.0</td>\n",
       "      <td>Regular High School Diploma</td>\n",
       "      <td>Full Time</td>\n",
       "      <td>1209.56</td>\n",
       "      <td>Widowed</td>\n",
       "      <td>No</td>\n",
       "      <td>Female</td>\n",
       "      <td>16.870524</td>\n",
       "      <td>5</td>\n",
       "      <td>0</td>\n",
       "      <td>2</td>\n",
       "      <td>Yes</td>\n",
       "      <td>Elective Admission</td>\n",
       "      <td>No</td>\n",
       "      <td>No</td>\n",
       "      <td>Low</td>\n",
       "      <td>0.0</td>\n",
       "      <td>No</td>\n",
       "      <td>No</td>\n",
       "      <td>Yes</td>\n",
       "      <td>No</td>\n",
       "      <td>0.0</td>\n",
       "      <td>Yes</td>\n",
       "      <td>No</td>\n",
       "      <td>No</td>\n",
       "      <td>CT Scan</td>\n",
       "      <td>1.254807</td>\n",
       "      <td>1885.655137</td>\n",
       "      <td>3716.525786</td>\n",
       "      <td>2</td>\n",
       "      <td>1</td>\n",
       "      <td>3</td>\n",
       "      <td>3</td>\n",
       "      <td>5</td>\n",
       "      <td>3</td>\n",
       "      <td>4</td>\n",
       "      <td>3</td>\n",
       "    </tr>\n",
       "  </tbody>\n",
       "</table>\n",
       "</div>"
      ],
      "text/plain": [
       "   Unnamed: 0  ID Customer_id                           Interaction  \\\n",
       "0           1   1     C412403  8cd49b13-f45a-4b47-a2bd-173ffa932c2f   \n",
       "1           2   2     Z919181  d2450b70-0337-4406-bdbb-bc1037f1734c   \n",
       "2           3   3     F995323  a2057123-abf5-4a2c-abad-8ffe33512562   \n",
       "3           4   4     A879973  1dec528d-eb34-4079-adce-0d7a40e82205   \n",
       "4           5   5     C544523  5885f56b-d6da-43a3-8760-83583af94266   \n",
       "\n",
       "                                UID    zip       Lat       Lng          City  \\\n",
       "0  3a83ddb66e2ae73798bdf1d705dc0932  35621  34.34960 -86.72508           Eva   \n",
       "1  176354c5eef714957d486009feabf195  32446  30.84513 -85.22907      Marianna   \n",
       "2  e19a0fa00aeda885b8a436757e889bc9  57110  43.54321 -96.63772   Sioux Falls   \n",
       "3  cd17d7b6d152cb6f23957346d11c3f07  56072  43.89744 -93.51479  New Richland   \n",
       "4  d2f0425877b10ed6bb381f3e2579424a  23181  37.59894 -76.88958    West Point   \n",
       "\n",
       "  State  Population        County      Area          Timezone  \\\n",
       "0    AL        2951        Morgan  Suburban   America/Chicago   \n",
       "1    FL       11303       Jackson     Urban   America/Chicago   \n",
       "2    SD       17125     Minnehaha  Suburban   America/Chicago   \n",
       "3    MN        2162        Waseca  Suburban   America/Chicago   \n",
       "4    VA        5287  King William     Rural  America/New_York   \n",
       "\n",
       "                                Job  Children   Age  \\\n",
       "0  Psychologist, sport and exercise       1.0  53.0   \n",
       "1      Community development worker       3.0  51.0   \n",
       "2           Chief Executive Officer       3.0  53.0   \n",
       "3               Early years teacher       0.0  78.0   \n",
       "4       Health promotion specialist       NaN  22.0   \n",
       "\n",
       "                                  Education Employment    Income   Marital  \\\n",
       "0            Some College, Less than 1 Year  Full Time  86575.93  Divorced   \n",
       "1  Some College, 1 or More Years, No Degree  Full Time  46805.99   Married   \n",
       "2  Some College, 1 or More Years, No Degree    Retired  14370.14   Widowed   \n",
       "3             GED or Alternative Credential    Retired  39741.49   Married   \n",
       "4               Regular High School Diploma  Full Time   1209.56   Widowed   \n",
       "\n",
       "  ReAdmis  Gender  vitD_levels  doc_visits  full_meals_eaten  vitD_supp  \\\n",
       "0      No    Male    17.802330           6                 0          0   \n",
       "1      No  Female    18.994640           4                 2          1   \n",
       "2      No  Female    17.415889           4                 1          0   \n",
       "3      No    Male    17.420079           4                 1          0   \n",
       "4      No  Female    16.870524           5                 0          2   \n",
       "\n",
       "  Soft_drink        Initial_Admin HighBlood Stroke Complication_Risk  \\\n",
       "0        NaN  Emergency Admission       Yes     No            Medium   \n",
       "1         No  Emergency Admission       Yes     No              High   \n",
       "2         No   Elective Admission       Yes     No            Medium   \n",
       "3         No   Elective Admission        No    Yes            Medium   \n",
       "4        Yes   Elective Admission        No     No               Low   \n",
       "\n",
       "   Overweight Arthritis Diabetes Hyperlipidemia BackPain  Anxiety  \\\n",
       "0         0.0       Yes      Yes             No      Yes      1.0   \n",
       "1         1.0        No       No             No       No      NaN   \n",
       "2         1.0        No      Yes             No       No      NaN   \n",
       "3         0.0       Yes       No             No       No      NaN   \n",
       "4         0.0        No       No            Yes       No      0.0   \n",
       "\n",
       "  Allergic_rhinitis Reflux_esophagitis Asthma     Services  Initial_Days  \\\n",
       "0               Yes                 No    Yes   Blood Work     10.585770   \n",
       "1                No                Yes     No  Intravenous     15.129562   \n",
       "2                No                 No     No   Blood Work      4.772177   \n",
       "3                No                Yes    Yes   Blood Work      1.714879   \n",
       "4               Yes                 No     No      CT Scan      1.254807   \n",
       "\n",
       "   TotalCharge  Additional_Charges  item1  item2  item3  item4  item5  item6  \\\n",
       "0  3191.048774        17939.403417      3      3      2      2      4      3   \n",
       "1  4214.905346        17612.998119      3      4      3      4      4      4   \n",
       "2  2177.586768        17505.192460      2      4      4      4      3      4   \n",
       "3  2465.118965        12993.437350      3      5      5      3      4      5   \n",
       "4  1885.655137         3716.525786      2      1      3      3      5      3   \n",
       "\n",
       "   item7  item8  \n",
       "0      3      4  \n",
       "1      3      3  \n",
       "2      3      3  \n",
       "3      5      5  \n",
       "4      4      3  "
      ]
     },
     "execution_count": 2,
     "metadata": {},
     "output_type": "execute_result"
    }
   ],
   "source": [
    "# Allows all columns to return\n",
    "pd.set_option('max_columns', None)\n",
    "\n",
    "# View first 5 records to get an idea of the data\n",
    "dfMed.head()"
   ]
  },
  {
   "cell_type": "code",
   "execution_count": 3,
   "metadata": {
    "scrolled": false
   },
   "outputs": [
    {
     "data": {
      "text/html": [
       "<div>\n",
       "<style scoped>\n",
       "    .dataframe tbody tr th:only-of-type {\n",
       "        vertical-align: middle;\n",
       "    }\n",
       "\n",
       "    .dataframe tbody tr th {\n",
       "        vertical-align: top;\n",
       "    }\n",
       "\n",
       "    .dataframe thead th {\n",
       "        text-align: right;\n",
       "    }\n",
       "</style>\n",
       "<table border=\"1\" class=\"dataframe\">\n",
       "  <thead>\n",
       "    <tr style=\"text-align: right;\">\n",
       "      <th></th>\n",
       "      <th>Unnamed: 0</th>\n",
       "      <th>ID</th>\n",
       "      <th>zip</th>\n",
       "      <th>Lat</th>\n",
       "      <th>Lng</th>\n",
       "      <th>Population</th>\n",
       "      <th>Children</th>\n",
       "      <th>Age</th>\n",
       "      <th>Income</th>\n",
       "      <th>vitD_levels</th>\n",
       "      <th>doc_visits</th>\n",
       "      <th>full_meals_eaten</th>\n",
       "      <th>vitD_supp</th>\n",
       "      <th>Overweight</th>\n",
       "      <th>Anxiety</th>\n",
       "      <th>Initial_Days</th>\n",
       "      <th>TotalCharge</th>\n",
       "      <th>Additional_Charges</th>\n",
       "      <th>item1</th>\n",
       "      <th>item2</th>\n",
       "      <th>item3</th>\n",
       "      <th>item4</th>\n",
       "      <th>item5</th>\n",
       "      <th>item6</th>\n",
       "      <th>item7</th>\n",
       "      <th>item8</th>\n",
       "    </tr>\n",
       "  </thead>\n",
       "  <tbody>\n",
       "    <tr>\n",
       "      <th>count</th>\n",
       "      <td>10000.00000</td>\n",
       "      <td>10000.00000</td>\n",
       "      <td>10000.000000</td>\n",
       "      <td>10000.000000</td>\n",
       "      <td>10000.000000</td>\n",
       "      <td>10000.000000</td>\n",
       "      <td>7412.000000</td>\n",
       "      <td>7586.000000</td>\n",
       "      <td>7536.000000</td>\n",
       "      <td>10000.000000</td>\n",
       "      <td>10000.000000</td>\n",
       "      <td>10000.000000</td>\n",
       "      <td>10000.000000</td>\n",
       "      <td>9018.000000</td>\n",
       "      <td>9016.000000</td>\n",
       "      <td>8944.000000</td>\n",
       "      <td>10000.000000</td>\n",
       "      <td>10000.000000</td>\n",
       "      <td>10000.000000</td>\n",
       "      <td>10000.000000</td>\n",
       "      <td>10000.000000</td>\n",
       "      <td>10000.000000</td>\n",
       "      <td>10000.000000</td>\n",
       "      <td>10000.000000</td>\n",
       "      <td>10000.000000</td>\n",
       "      <td>10000.000000</td>\n",
       "    </tr>\n",
       "    <tr>\n",
       "      <th>mean</th>\n",
       "      <td>5000.50000</td>\n",
       "      <td>5000.50000</td>\n",
       "      <td>50159.323900</td>\n",
       "      <td>38.751099</td>\n",
       "      <td>-91.243080</td>\n",
       "      <td>9965.253800</td>\n",
       "      <td>2.098219</td>\n",
       "      <td>53.295676</td>\n",
       "      <td>40484.438268</td>\n",
       "      <td>19.412675</td>\n",
       "      <td>5.012200</td>\n",
       "      <td>1.001400</td>\n",
       "      <td>0.398900</td>\n",
       "      <td>0.709137</td>\n",
       "      <td>0.322316</td>\n",
       "      <td>34.432082</td>\n",
       "      <td>5891.538261</td>\n",
       "      <td>12934.528585</td>\n",
       "      <td>3.518800</td>\n",
       "      <td>3.506700</td>\n",
       "      <td>3.511100</td>\n",
       "      <td>3.515100</td>\n",
       "      <td>3.496900</td>\n",
       "      <td>3.522500</td>\n",
       "      <td>3.494000</td>\n",
       "      <td>3.509700</td>\n",
       "    </tr>\n",
       "    <tr>\n",
       "      <th>std</th>\n",
       "      <td>2886.89568</td>\n",
       "      <td>2886.89568</td>\n",
       "      <td>27469.588208</td>\n",
       "      <td>5.403085</td>\n",
       "      <td>15.205998</td>\n",
       "      <td>14824.758614</td>\n",
       "      <td>2.155427</td>\n",
       "      <td>20.659182</td>\n",
       "      <td>28664.861050</td>\n",
       "      <td>6.723277</td>\n",
       "      <td>1.045734</td>\n",
       "      <td>1.008117</td>\n",
       "      <td>0.628505</td>\n",
       "      <td>0.454186</td>\n",
       "      <td>0.467389</td>\n",
       "      <td>26.287050</td>\n",
       "      <td>3377.558136</td>\n",
       "      <td>6542.601544</td>\n",
       "      <td>1.031966</td>\n",
       "      <td>1.034825</td>\n",
       "      <td>1.032755</td>\n",
       "      <td>1.036282</td>\n",
       "      <td>1.030192</td>\n",
       "      <td>1.032376</td>\n",
       "      <td>1.021405</td>\n",
       "      <td>1.042312</td>\n",
       "    </tr>\n",
       "    <tr>\n",
       "      <th>min</th>\n",
       "      <td>1.00000</td>\n",
       "      <td>1.00000</td>\n",
       "      <td>610.000000</td>\n",
       "      <td>17.967190</td>\n",
       "      <td>-174.209690</td>\n",
       "      <td>0.000000</td>\n",
       "      <td>0.000000</td>\n",
       "      <td>18.000000</td>\n",
       "      <td>154.080000</td>\n",
       "      <td>9.519012</td>\n",
       "      <td>1.000000</td>\n",
       "      <td>0.000000</td>\n",
       "      <td>0.000000</td>\n",
       "      <td>0.000000</td>\n",
       "      <td>0.000000</td>\n",
       "      <td>1.001981</td>\n",
       "      <td>1256.751699</td>\n",
       "      <td>3125.702716</td>\n",
       "      <td>1.000000</td>\n",
       "      <td>1.000000</td>\n",
       "      <td>1.000000</td>\n",
       "      <td>1.000000</td>\n",
       "      <td>1.000000</td>\n",
       "      <td>1.000000</td>\n",
       "      <td>1.000000</td>\n",
       "      <td>1.000000</td>\n",
       "    </tr>\n",
       "    <tr>\n",
       "      <th>25%</th>\n",
       "      <td>2500.75000</td>\n",
       "      <td>2500.75000</td>\n",
       "      <td>27592.000000</td>\n",
       "      <td>35.255120</td>\n",
       "      <td>-97.352982</td>\n",
       "      <td>694.750000</td>\n",
       "      <td>0.000000</td>\n",
       "      <td>35.000000</td>\n",
       "      <td>19450.792500</td>\n",
       "      <td>16.513171</td>\n",
       "      <td>4.000000</td>\n",
       "      <td>0.000000</td>\n",
       "      <td>0.000000</td>\n",
       "      <td>0.000000</td>\n",
       "      <td>0.000000</td>\n",
       "      <td>7.911709</td>\n",
       "      <td>3253.239465</td>\n",
       "      <td>7986.487642</td>\n",
       "      <td>3.000000</td>\n",
       "      <td>3.000000</td>\n",
       "      <td>3.000000</td>\n",
       "      <td>3.000000</td>\n",
       "      <td>3.000000</td>\n",
       "      <td>3.000000</td>\n",
       "      <td>3.000000</td>\n",
       "      <td>3.000000</td>\n",
       "    </tr>\n",
       "    <tr>\n",
       "      <th>50%</th>\n",
       "      <td>5000.50000</td>\n",
       "      <td>5000.50000</td>\n",
       "      <td>50207.000000</td>\n",
       "      <td>39.419355</td>\n",
       "      <td>-88.397230</td>\n",
       "      <td>2769.000000</td>\n",
       "      <td>1.000000</td>\n",
       "      <td>53.000000</td>\n",
       "      <td>33942.280000</td>\n",
       "      <td>18.080560</td>\n",
       "      <td>5.000000</td>\n",
       "      <td>1.000000</td>\n",
       "      <td>0.000000</td>\n",
       "      <td>1.000000</td>\n",
       "      <td>0.000000</td>\n",
       "      <td>34.446941</td>\n",
       "      <td>5852.250564</td>\n",
       "      <td>11573.979364</td>\n",
       "      <td>4.000000</td>\n",
       "      <td>3.000000</td>\n",
       "      <td>4.000000</td>\n",
       "      <td>4.000000</td>\n",
       "      <td>3.000000</td>\n",
       "      <td>4.000000</td>\n",
       "      <td>3.000000</td>\n",
       "      <td>3.000000</td>\n",
       "    </tr>\n",
       "    <tr>\n",
       "      <th>75%</th>\n",
       "      <td>7500.25000</td>\n",
       "      <td>7500.25000</td>\n",
       "      <td>72411.750000</td>\n",
       "      <td>42.044175</td>\n",
       "      <td>-80.438050</td>\n",
       "      <td>13945.000000</td>\n",
       "      <td>3.000000</td>\n",
       "      <td>71.000000</td>\n",
       "      <td>54075.235000</td>\n",
       "      <td>19.789740</td>\n",
       "      <td>6.000000</td>\n",
       "      <td>2.000000</td>\n",
       "      <td>1.000000</td>\n",
       "      <td>1.000000</td>\n",
       "      <td>1.000000</td>\n",
       "      <td>61.124654</td>\n",
       "      <td>7614.989701</td>\n",
       "      <td>15626.491035</td>\n",
       "      <td>4.000000</td>\n",
       "      <td>4.000000</td>\n",
       "      <td>4.000000</td>\n",
       "      <td>4.000000</td>\n",
       "      <td>4.000000</td>\n",
       "      <td>4.000000</td>\n",
       "      <td>4.000000</td>\n",
       "      <td>4.000000</td>\n",
       "    </tr>\n",
       "    <tr>\n",
       "      <th>max</th>\n",
       "      <td>10000.00000</td>\n",
       "      <td>10000.00000</td>\n",
       "      <td>99929.000000</td>\n",
       "      <td>70.560990</td>\n",
       "      <td>-65.290170</td>\n",
       "      <td>122814.000000</td>\n",
       "      <td>10.000000</td>\n",
       "      <td>89.000000</td>\n",
       "      <td>207249.130000</td>\n",
       "      <td>53.019124</td>\n",
       "      <td>9.000000</td>\n",
       "      <td>7.000000</td>\n",
       "      <td>5.000000</td>\n",
       "      <td>1.000000</td>\n",
       "      <td>1.000000</td>\n",
       "      <td>71.981486</td>\n",
       "      <td>21524.224212</td>\n",
       "      <td>30566.073127</td>\n",
       "      <td>8.000000</td>\n",
       "      <td>7.000000</td>\n",
       "      <td>8.000000</td>\n",
       "      <td>7.000000</td>\n",
       "      <td>7.000000</td>\n",
       "      <td>7.000000</td>\n",
       "      <td>7.000000</td>\n",
       "      <td>7.000000</td>\n",
       "    </tr>\n",
       "  </tbody>\n",
       "</table>\n",
       "</div>"
      ],
      "text/plain": [
       "        Unnamed: 0           ID           zip           Lat           Lng  \\\n",
       "count  10000.00000  10000.00000  10000.000000  10000.000000  10000.000000   \n",
       "mean    5000.50000   5000.50000  50159.323900     38.751099    -91.243080   \n",
       "std     2886.89568   2886.89568  27469.588208      5.403085     15.205998   \n",
       "min        1.00000      1.00000    610.000000     17.967190   -174.209690   \n",
       "25%     2500.75000   2500.75000  27592.000000     35.255120    -97.352982   \n",
       "50%     5000.50000   5000.50000  50207.000000     39.419355    -88.397230   \n",
       "75%     7500.25000   7500.25000  72411.750000     42.044175    -80.438050   \n",
       "max    10000.00000  10000.00000  99929.000000     70.560990    -65.290170   \n",
       "\n",
       "          Population     Children          Age         Income   vitD_levels  \\\n",
       "count   10000.000000  7412.000000  7586.000000    7536.000000  10000.000000   \n",
       "mean     9965.253800     2.098219    53.295676   40484.438268     19.412675   \n",
       "std     14824.758614     2.155427    20.659182   28664.861050      6.723277   \n",
       "min         0.000000     0.000000    18.000000     154.080000      9.519012   \n",
       "25%       694.750000     0.000000    35.000000   19450.792500     16.513171   \n",
       "50%      2769.000000     1.000000    53.000000   33942.280000     18.080560   \n",
       "75%     13945.000000     3.000000    71.000000   54075.235000     19.789740   \n",
       "max    122814.000000    10.000000    89.000000  207249.130000     53.019124   \n",
       "\n",
       "         doc_visits  full_meals_eaten     vitD_supp   Overweight      Anxiety  \\\n",
       "count  10000.000000      10000.000000  10000.000000  9018.000000  9016.000000   \n",
       "mean       5.012200          1.001400      0.398900     0.709137     0.322316   \n",
       "std        1.045734          1.008117      0.628505     0.454186     0.467389   \n",
       "min        1.000000          0.000000      0.000000     0.000000     0.000000   \n",
       "25%        4.000000          0.000000      0.000000     0.000000     0.000000   \n",
       "50%        5.000000          1.000000      0.000000     1.000000     0.000000   \n",
       "75%        6.000000          2.000000      1.000000     1.000000     1.000000   \n",
       "max        9.000000          7.000000      5.000000     1.000000     1.000000   \n",
       "\n",
       "       Initial_Days   TotalCharge  Additional_Charges         item1  \\\n",
       "count   8944.000000  10000.000000        10000.000000  10000.000000   \n",
       "mean      34.432082   5891.538261        12934.528585      3.518800   \n",
       "std       26.287050   3377.558136         6542.601544      1.031966   \n",
       "min        1.001981   1256.751699         3125.702716      1.000000   \n",
       "25%        7.911709   3253.239465         7986.487642      3.000000   \n",
       "50%       34.446941   5852.250564        11573.979364      4.000000   \n",
       "75%       61.124654   7614.989701        15626.491035      4.000000   \n",
       "max       71.981486  21524.224212        30566.073127      8.000000   \n",
       "\n",
       "              item2         item3         item4         item5         item6  \\\n",
       "count  10000.000000  10000.000000  10000.000000  10000.000000  10000.000000   \n",
       "mean       3.506700      3.511100      3.515100      3.496900      3.522500   \n",
       "std        1.034825      1.032755      1.036282      1.030192      1.032376   \n",
       "min        1.000000      1.000000      1.000000      1.000000      1.000000   \n",
       "25%        3.000000      3.000000      3.000000      3.000000      3.000000   \n",
       "50%        3.000000      4.000000      4.000000      3.000000      4.000000   \n",
       "75%        4.000000      4.000000      4.000000      4.000000      4.000000   \n",
       "max        7.000000      8.000000      7.000000      7.000000      7.000000   \n",
       "\n",
       "              item7         item8  \n",
       "count  10000.000000  10000.000000  \n",
       "mean       3.494000      3.509700  \n",
       "std        1.021405      1.042312  \n",
       "min        1.000000      1.000000  \n",
       "25%        3.000000      3.000000  \n",
       "50%        3.000000      3.000000  \n",
       "75%        4.000000      4.000000  \n",
       "max        7.000000      7.000000  "
      ]
     },
     "execution_count": 3,
     "metadata": {},
     "output_type": "execute_result"
    }
   ],
   "source": [
    "# Get an overview of the numeric fields\n",
    "dfMed.describe()"
   ]
  },
  {
   "cell_type": "code",
   "execution_count": 4,
   "metadata": {},
   "outputs": [
    {
     "data": {
      "text/plain": [
       "Unnamed: 0            10000\n",
       "ID                    10000\n",
       "Customer_id           10000\n",
       "Interaction           10000\n",
       "UID                   10000\n",
       "zip                    8612\n",
       "Lat                    8588\n",
       "Lng                    8601\n",
       "City                   6072\n",
       "State                    52\n",
       "Population             5951\n",
       "County                 1607\n",
       "Area                      3\n",
       "Timezone                 26\n",
       "Job                     639\n",
       "Children                 11\n",
       "Age                      72\n",
       "Education                12\n",
       "Employment                5\n",
       "Income                 7531\n",
       "Marital                   5\n",
       "ReAdmis                   2\n",
       "Gender                    3\n",
       "vitD_levels           10000\n",
       "doc_visits                9\n",
       "full_meals_eaten          8\n",
       "vitD_supp                 6\n",
       "Soft_drink                2\n",
       "Initial_Admin             3\n",
       "HighBlood                 2\n",
       "Stroke                    2\n",
       "Complication_Risk         3\n",
       "Overweight                2\n",
       "Arthritis                 2\n",
       "Diabetes                  2\n",
       "Hyperlipidemia            2\n",
       "BackPain                  2\n",
       "Anxiety                   2\n",
       "Allergic_rhinitis         2\n",
       "Reflux_esophagitis        2\n",
       "Asthma                    2\n",
       "Services                  4\n",
       "Initial_Days           8944\n",
       "TotalCharge           10000\n",
       "Additional_Charges     8888\n",
       "item1                     8\n",
       "item2                     7\n",
       "item3                     8\n",
       "item4                     7\n",
       "item5                     7\n",
       "item6                     7\n",
       "item7                     7\n",
       "item8                     7\n",
       "dtype: int64"
      ]
     },
     "execution_count": 4,
     "metadata": {},
     "output_type": "execute_result"
    }
   ],
   "source": [
    "# Find the distinct count of values in each column\n",
    "dfMed.nunique()"
   ]
  },
  {
   "cell_type": "markdown",
   "metadata": {},
   "source": [
    "##### Findings\n",
    "Based on the data, data dictionary, and numeric summaries, here is a brief summary review of each column.\n",
    "\n",
    "1. Unnamed: 0\n",
    " - This appears to be an order index ranging from 1-10000.  The data dictionary listed CaseOrder as the first column and as a placeholder for the sort order, but that actually appears to be stored in both of the first two columns.\n",
    "2. ID\n",
    " - See above\n",
    "3. Customer_id\n",
    " - A unique patient ID, consisting of numbers and characters.\n",
    "4. Interaction\n",
    " - A unique ID, storing a GUID\n",
    "5. UID\n",
    " - A unique ID, consisting of numbers and characters.\n",
    "6. zip\n",
    " - The postal code of the patient's residence.  Over 8600 postal codes are included.\n",
    "7. Lat\n",
    " - The latitude of the patient's residence.\n",
    "8. Lng\n",
    " - The longitude of the patient's residence.\n",
    "9. City\n",
    " - The city of the patient's residence.  Over 6000 cities are included.\n",
    "10. State\n",
    " - The state of the patient's residence.  Over 50 are included.  This could indicate Nulls, blanks, or smaller regions like the District of Columbia or Puerto Rico.\n",
    "11. Population\n",
    " - The population with a mile radius of the patient's residence.\n",
    "12. County\n",
    " - The county of the patient's residence.\n",
    "13. Area\n",
    " - A classification of the patient's residence.  Options are Rural, Urban, and Suburban.\n",
    "14. Timezone\n",
    " - The timezone of the patient's residence.\n",
    "15. Job\n",
    " - A string describing the occupation of the primary insurance holder.\n",
    "16. Children\n",
    " - The number of children in the patient's household.  This includes children that are not direct children of the patient.\n",
    "17. Age\n",
    " - The age of the patient during admission.\n",
    "18. Education\n",
    " - The education level of the primary insurance holder.\n",
    "19. Employment\n",
    " - The employeement status of the primary insurance holder.\n",
    "20. Income\n",
    " - The annual income of the primary insurance holder.\n",
    "21. Marital\n",
    " - The marital status of the primary insurance holder.\n",
    "22. ReAdmis\n",
    " - A Yes or No stating if the patient was readmitted.\n",
    "23. Gender\n",
    " - The gender (male/female).  Has 3 distinct values, so an empty, null, or 3rd option exists.\n",
    "24. vitD_levels\n",
    " - The patient's vitamin D levels measured in ng/mL\n",
    "25. doc_visits\n",
    " - The number of times the doctor visited the patient during the initial hospitalization.\n",
    "26. full_meals_eaten\n",
    " - The number of full meals the patient ate during hospitalization.\n",
    "27. vitD_supp\n",
    " - The number of times vitamin D supplements were administered to the patient.\n",
    "28. Soft_drink\n",
    " - Yes or No indicating if the patient drinks more than 3 sodas per day.\n",
    "29. Initial_Admin\n",
    " - A categorical value describing how the patient was initially admitted to the hospital - Observation, Elective, or Emergency.\n",
    "30. HighBlood\n",
    " - Yes or No indicating if the patient has high blood pressure.\n",
    "31. Stroke\n",
    " - Yes or No indicating if the patient has had a stroke.\n",
    "32. Complication_Risk\n",
    " - Level of complication risk for the patient as assessed by the doctor (high, medium, or low).\n",
    "33. Overweight\n",
    " - Yes or No indicating if the patient is overweight based on age, gender, and height.\n",
    "34. Arthritis\n",
    " - Yes or No indicating if the patient has arthritis.\n",
    "35. Diabetes\n",
    " - Yes or No indicating if the patient has diabetes.\n",
    "36. Hyperlipidemia\n",
    " - Yes or No indicating if the patient has hyperlipidemia.\n",
    "37. BackPain\n",
    " - Yes or No indicating if the patient has back pain.\n",
    "38. Anxiety\n",
    " - Yes or No indicating if the patient has anxiety.\n",
    "39. Allergic_rhinitis\n",
    " - Yes or No indicating if the patient has allergic rhinitis.\n",
    "40. Reflux_esophagitis\n",
    " - Yes or No indicating if the patient has reflux esophagitis.\n",
    "41. Asthma\n",
    " - Yes or No indicating if the patient has asthma.\n",
    "42. Services\n",
    " - A string representing the primary service that the patient received while hospitalized.\n",
    "43. Initial_Days\n",
    " - The number of days the patient stayed during the initial visit.\n",
    "44. TotalCharge\n",
    " - The average amount charged to the patient daily.\n",
    "45. Additional_Charges\n",
    " - The average amount charged to the patient for miscellaneous procedures, treatments, medicines, anesthesiology, etc.\n",
    "46. item1\n",
    " - How important timely admission is to the patient on a scale of 1 (most important) to 8 (least important).\n",
    "47. item2\n",
    " - How important timely treatment is to the patient on a scale of 1 (most important) to 8 (least important).\n",
    "48. item3\n",
    " - How important timely visits are to the patient on a scale of 1 (most important) to 8 (least important).\n",
    "49. item4\n",
    " - How important reliability is to the patient on a scale of 1 (most important) to 8 (least important).\n",
    "40. item5\n",
    " - How important options are to the patient on a scale of 1 (most important) to 8 (least important).\n",
    "51. item6\n",
    " - How important hours of treatment are to the patient on a scale of 1 (most important) to 8 (least important).\n",
    "52. item7\n",
    " - How important courteous staff is to the patient on a scale of 1 (most important) to 8 (least important).\n",
    "53. item8\n",
    " - How important evidence of active listening from the doctor is to the patient on a scale of 1 (most important) to 8 (least important).\n"
   ]
  },
  {
   "cell_type": "markdown",
   "metadata": {},
   "source": [
    "### Part II: Data-Cleaning Plan \n",
    "\n",
    "#### C.  Explain the plan for cleaning the data by doing the following: \n",
    "\n",
    "##### Plan to Clean Data\n",
    "\n",
    "I will perform the following steps to clean and prep the dataset.\n",
    "\n",
    "1. Remove unnecessary columns.  I will base this process on the question we are trying to answer and the understanding of the data.\n",
    "\n",
    "2. Detect and fill (or remove) NaN, null, and blank values where necessary.  For each column, we will determine if blank values can be filled with a default or average, or if the records need to be removed from consideration.\n",
    "\n",
    "3. Review each column to look for values that should be converted to another type (int to string, vice versa) for bucketing or other purposes.\n",
    "\n",
    "4. Save the cleaned dataset.\n",
    "\n",
    "##### Language and Justification\n",
    "\n",
    "I will be using Python with the following supporting libraries.  My choice of Python is driven by the desire to produce code that can easily be deployed into infrastructures and software companies, and blend in more general code with data analysis.\n",
    "- Pandas (for dataframe capabilies)\n",
    "- SciPy (for PCA capabilities)\n",
    "- MatPlotLib (for graphing capabilities)"
   ]
  },
  {
   "cell_type": "markdown",
   "metadata": {},
   "source": [
    "### Part III: Data Cleaning \n",
    "\n",
    "\n",
    "#### D.  Summarize the data-cleaning process by doing the following: \n",
    "\n",
    "##### Remove Unnecessary Columns\n",
    "Both \"Unnamed: 0\" and \"ID\" appear to be some sort of index, ordering columns.  The data dictionary lists \"CaseOrder\" as the first column and describes it as a placeholder to preserve the order, but both columns are holding the same values.\n",
    "\n",
    "Below is the intial review of the columns and which will be kept and removed:\n",
    "\n",
    "**<font color=\"purple\">The value we are trying to predict.</font>**<br/>\n",
    "ReAdmis\n",
    "\n",
    "**<font color=\"green\">Will be kept and used in PCA.</font>**<br/>\n",
    "Lat, Lng, Population, Children, Age, Income, vitD_levels, doc_visits, full_meals_eaten, vitD_supp, Overweight, Anxiety, Initial_Days, item1, item2, item3, item4, item5, item6, item7, item8\n",
    ">I considered removing the survey results, but finally concluded that the mental priorities of a patient could indicate their predilection for hospital visits.\n",
    "\n",
    "**<span style='background :yellow' >Will be reviewed and kept in dataset.</span>**<br/>\n",
    "Area, Education, Employment, Marital, Gender, Soft_drink, Initial_Admin, HighBlood, Stroke, Complication_Risk, Arthritis, Diabetes, Hyperlipidemia, BackPain, Allergic_rhinitis, Reflux_esophagitis, Asthma, Services\n",
    ">Will explore to see if these can be transformed into into numeric values and used.\n",
    "\n",
    "**<font color=\"red\">Will be removed.</font>**<br/>\n",
    "Unnamed: 0, ID, Customer_Id, Interation, UID\n",
    ">Ordering or Identity columns that will not impact Readmission.\n",
    "\n",
    "zip, City, State, County, Timezone\n",
    ">While address/location might impact Readmission, I prefer the latitude and longitude since they are continuous.\n",
    "\n",
    "Job\n",
    ">There are over 600 distinct jobs and we cannot convert to a quick numeric indicator to scale and detect outliers.\n",
    "\n",
    "TotalCharge, Additional_Charges \n",
    ">While I believe the charges and chance of readmission is correlated, I believe they would both be driven by the other statistics and not be causation."
   ]
  },
  {
   "cell_type": "code",
   "execution_count": 5,
   "metadata": {},
   "outputs": [],
   "source": [
    "# Remove the unused columns\n",
    "dfMedTr = dfMed.drop(columns = ['Unnamed: 0', 'ID', 'Customer_id', 'Interaction', 'UID', 'zip', 'State', 'County', 'Job', 'Timezone', 'TotalCharge', 'Additional_Charges'])"
   ]
  },
  {
   "cell_type": "markdown",
   "metadata": {},
   "source": [
    "---\n",
    "##### Review and Handle Empty Values\n",
    "\n",
    "First, get a list of the columns that have true nulls(NaN).  We will pay extra special attention to these columns during the review."
   ]
  },
  {
   "cell_type": "code",
   "execution_count": 6,
   "metadata": {
    "scrolled": true
   },
   "outputs": [
    {
     "data": {
      "text/plain": [
       "['Children',\n",
       " 'Age',\n",
       " 'Income',\n",
       " 'Soft_drink',\n",
       " 'Overweight',\n",
       " 'Anxiety',\n",
       " 'Initial_Days']"
      ]
     },
     "execution_count": 6,
     "metadata": {},
     "output_type": "execute_result"
    }
   ],
   "source": [
    "dfMedTr.columns[dfMedTr.isna().any()].tolist()"
   ]
  },
  {
   "cell_type": "markdown",
   "metadata": {},
   "source": [
    "**Lat, Lng**\n",
    ">No null values so just check data visually to make the data is valid."
   ]
  },
  {
   "cell_type": "code",
   "execution_count": 7,
   "metadata": {
    "scrolled": true
   },
   "outputs": [
    {
     "data": {
      "text/plain": [
       "array([[<AxesSubplot:title={'center':'Lat'}>,\n",
       "        <AxesSubplot:title={'center':'Lng'}>]], dtype=object)"
      ]
     },
     "execution_count": 7,
     "metadata": {},
     "output_type": "execute_result"
    },
    {
     "data": {
      "image/png": "[encoded data removed]",
      "text/plain": [
       "<Figure size 432x288 with 2 Axes>"
      ]
     },
     "metadata": {
      "needs_background": "light"
     },
     "output_type": "display_data"
    }
   ],
   "source": [
    "dfMedTr[['Lat', 'Lng']].hist()"
   ]
  },
  {
   "cell_type": "markdown",
   "metadata": {},
   "source": [
    "**City**\n",
    ">We know there were no nulls, so just review some of the options and make sure there aren't blanks."
   ]
  },
  {
   "cell_type": "code",
   "execution_count": 8,
   "metadata": {
    "scrolled": true
   },
   "outputs": [
    {
     "data": {
      "text/plain": [
       "Houston          36\n",
       "San Antonio      26\n",
       "Springfield      22\n",
       "New York         21\n",
       "Miami            21\n",
       "                 ..\n",
       "Brandon           1\n",
       "Mont Alto         1\n",
       "Milligan          1\n",
       "Rocky             1\n",
       "Peach Orchard     1\n",
       "Name: City, Length: 6072, dtype: int64"
      ]
     },
     "execution_count": 8,
     "metadata": {},
     "output_type": "execute_result"
    }
   ],
   "source": [
    "dfMedTr.City.value_counts()"
   ]
  },
  {
   "cell_type": "code",
   "execution_count": 9,
   "metadata": {},
   "outputs": [
    {
     "data": {
      "text/plain": [
       "0"
      ]
     },
     "execution_count": 9,
     "metadata": {},
     "output_type": "execute_result"
    }
   ],
   "source": [
    "dfMedTr[dfMedTr.City.str.strip() == \"\"].shape[0]"
   ]
  },
  {
   "cell_type": "markdown",
   "metadata": {},
   "source": [
    "**Population**\n",
    ">No null values so just check data visually to make the data is valid."
   ]
  },
  {
   "cell_type": "code",
   "execution_count": 10,
   "metadata": {},
   "outputs": [
    {
     "data": {
      "text/plain": [
       "<AxesSubplot:>"
      ]
     },
     "execution_count": 10,
     "metadata": {},
     "output_type": "execute_result"
    },
    {
     "data": {
      "image/png": "[encoded data removed]",
      "text/plain": [
       "<Figure size 432x288 with 1 Axes>"
      ]
     },
     "metadata": {
      "needs_background": "light"
     },
     "output_type": "display_data"
    }
   ],
   "source": [
    "dfMedTr.Population.hist()"
   ]
  },
  {
   "cell_type": "code",
   "execution_count": 11,
   "metadata": {},
   "outputs": [
    {
     "data": {
      "text/plain": [
       "109"
      ]
     },
     "execution_count": 11,
     "metadata": {},
     "output_type": "execute_result"
    }
   ],
   "source": [
    "dfMedTr[dfMedTr.Population == 0].shape[0]"
   ]
  },
  {
   "cell_type": "markdown",
   "metadata": {},
   "source": [
    ">There are some zero populations, but I could see the population being very low for the bulk of people (below 10,000).  We will replace the zeros with 1 to at least account for the patient themselves."
   ]
  },
  {
   "cell_type": "code",
   "execution_count": 12,
   "metadata": {},
   "outputs": [],
   "source": [
    "dfMedTr['Population'] = [i if i != 0 else 1 for i in dfMedTr['Population']]"
   ]
  },
  {
   "cell_type": "markdown",
   "metadata": {},
   "source": [
    "**Area**\n",
    ">There are no nulls present, but we will still review the value counts to look for blank strings."
   ]
  },
  {
   "cell_type": "code",
   "execution_count": 13,
   "metadata": {},
   "outputs": [
    {
     "data": {
      "text/plain": [
       "Rural       3369\n",
       "Suburban    3328\n",
       "Urban       3303\n",
       "Name: Area, dtype: int64"
      ]
     },
     "execution_count": 13,
     "metadata": {},
     "output_type": "execute_result"
    }
   ],
   "source": [
    "dfMedTr.Area.value_counts()"
   ]
  },
  {
   "cell_type": "markdown",
   "metadata": {},
   "source": [
    ">Since this is an indicator of how close people are to services and other people, I believe we can change this to a sliding scale of 1 for Rural, 2 for Suburban, and 3 for Urban."
   ]
  },
  {
   "cell_type": "code",
   "execution_count": 14,
   "metadata": {},
   "outputs": [
    {
     "data": {
      "text/plain": [
       "1    3369\n",
       "2    3328\n",
       "3    3303\n",
       "Name: AreaClass, dtype: int64"
      ]
     },
     "execution_count": 14,
     "metadata": {},
     "output_type": "execute_result"
    }
   ],
   "source": [
    "# create a list of conditions\n",
    "conditions = [(dfMedTr['Area'] == \"Rural\")\n",
    "              , (dfMedTr['Area'] == \"Suburban\")\n",
    "              , (dfMedTr['Area'] == \"Urban\")]\n",
    "\n",
    "# create a list of the values\n",
    "values = [1,2,3]\n",
    "\n",
    "dfMedTr['AreaClass'] = np.select(conditions, values)\n",
    "dfMedTr.AreaClass.value_counts()"
   ]
  },
  {
   "cell_type": "code",
   "execution_count": 15,
   "metadata": {},
   "outputs": [
    {
     "data": {
      "text/plain": [
       "<AxesSubplot:>"
      ]
     },
     "execution_count": 15,
     "metadata": {},
     "output_type": "execute_result"
    },
    {
     "data": {
      "image/png": "[encoded data removed]",
      "text/plain": [
       "<Figure size 432x288 with 1 Axes>"
      ]
     },
     "metadata": {
      "needs_background": "light"
     },
     "output_type": "display_data"
    }
   ],
   "source": [
    "dfMedTr.AreaClass.hist()"
   ]
  },
  {
   "cell_type": "markdown",
   "metadata": {},
   "source": [
    "**Children**\n",
    ">There are nulls present, we need to decide how to fill the null values (or remove)."
   ]
  },
  {
   "cell_type": "code",
   "execution_count": 16,
   "metadata": {
    "scrolled": true
   },
   "outputs": [
    {
     "data": {
      "text/plain": [
       "<AxesSubplot:>"
      ]
     },
     "execution_count": 16,
     "metadata": {},
     "output_type": "execute_result"
    },
    {
     "data": {
      "image/png": "[encoded data removed]",
      "text/plain": [
       "<Figure size 432x288 with 1 Axes>"
      ]
     },
     "metadata": {
      "needs_background": "light"
     },
     "output_type": "display_data"
    }
   ],
   "source": [
    "dfMedTr.Children.hist()"
   ]
  },
  {
   "cell_type": "markdown",
   "metadata": {},
   "source": [
    ">A quick search on Google shows that the average number of children in the U.S. is 1.93.  We will check the mean to see if we are already at that value."
   ]
  },
  {
   "cell_type": "code",
   "execution_count": 17,
   "metadata": {},
   "outputs": [
    {
     "data": {
      "text/plain": [
       "2.0982191041554237"
      ]
     },
     "execution_count": 17,
     "metadata": {},
     "output_type": "execute_result"
    }
   ],
   "source": [
    "dfMedTr.Children.mean()"
   ]
  },
  {
   "cell_type": "markdown",
   "metadata": {},
   "source": [
    ">I don't want to remove null records, because that would account for around 1/4th of the dataset.\n",
    "\n",
    ">Since we are slightly above the correct mean, filling a quarter of the records pulled the average down below the correct mean.  I do not want to assume the correct number of children or use a float, so we will consider the variance to be acceptable in this case and convert the null values to zero."
   ]
  },
  {
   "cell_type": "code",
   "execution_count": 18,
   "metadata": {
    "scrolled": true
   },
   "outputs": [
    {
     "data": {
      "text/plain": [
       "1.5552"
      ]
     },
     "execution_count": 18,
     "metadata": {},
     "output_type": "execute_result"
    }
   ],
   "source": [
    "dfMedTr['Children'].fillna(0, inplace = True)\n",
    "dfMedTr.Children.mean()"
   ]
  },
  {
   "cell_type": "markdown",
   "metadata": {},
   "source": [
    "**Age**\n",
    ">There are nulls present, so we will need to decide how to fill."
   ]
  },
  {
   "cell_type": "code",
   "execution_count": 19,
   "metadata": {
    "scrolled": true
   },
   "outputs": [
    {
     "data": {
      "text/plain": [
       "<AxesSubplot:>"
      ]
     },
     "execution_count": 19,
     "metadata": {},
     "output_type": "execute_result"
    },
    {
     "data": {
      "image/png": "[encoded data removed]",
      "text/plain": [
       "<Figure size 432x288 with 1 Axes>"
      ]
     },
     "metadata": {
      "needs_background": "light"
     },
     "output_type": "display_data"
    }
   ],
   "source": [
    "dfMedTr.Age.hist()"
   ]
  },
  {
   "cell_type": "code",
   "execution_count": 20,
   "metadata": {
    "scrolled": true
   },
   "outputs": [
    {
     "data": {
      "text/plain": [
       "count    7586.000000\n",
       "mean       53.295676\n",
       "std        20.659182\n",
       "min        18.000000\n",
       "25%        35.000000\n",
       "50%        53.000000\n",
       "75%        71.000000\n",
       "max        89.000000\n",
       "Name: Age, dtype: float64"
      ]
     },
     "execution_count": 20,
     "metadata": {},
     "output_type": "execute_result"
    }
   ],
   "source": [
    "dfMedTr.Age.describe()"
   ]
  },
  {
   "cell_type": "code",
   "execution_count": 21,
   "metadata": {},
   "outputs": [
    {
     "data": {
      "text/plain": [
       "0    30.0\n",
       "dtype: float64"
      ]
     },
     "execution_count": 21,
     "metadata": {},
     "output_type": "execute_result"
    }
   ],
   "source": [
    "dfMedTr.Age.mode()"
   ]
  },
  {
   "cell_type": "markdown",
   "metadata": {},
   "source": [
    ">I do not want to use the mode, because it is skewed towards the bottom.  We will fill the nulls with the average age of 53."
   ]
  },
  {
   "cell_type": "code",
   "execution_count": 22,
   "metadata": {},
   "outputs": [],
   "source": [
    "dfMedTr['Age'].fillna(53, inplace = True)"
   ]
  },
  {
   "cell_type": "markdown",
   "metadata": {},
   "source": [
    "**Education**\n",
    ">There are no nulls present, so we will check the value counts to make sure there are no blank strings."
   ]
  },
  {
   "cell_type": "code",
   "execution_count": 23,
   "metadata": {},
   "outputs": [
    {
     "data": {
      "text/plain": [
       "Regular High School Diploma                 2444\n",
       "Bachelor's Degree                           1724\n",
       "Some College, 1 or More Years, No Degree    1484\n",
       "9th Grade to 12th Grade, No Diploma          832\n",
       "Associate's Degree                           797\n",
       "Master's Degree                              701\n",
       "Some College, Less than 1 Year               642\n",
       "Nursery School to 8th Grade                  552\n",
       "GED or Alternative Credential                389\n",
       "Professional School Degree                   208\n",
       "No Schooling Completed                       133\n",
       "Doctorate Degree                              94\n",
       "Name: Education, dtype: int64"
      ]
     },
     "execution_count": 23,
     "metadata": {},
     "output_type": "execute_result"
    }
   ],
   "source": [
    "dfMedTr.Education.value_counts()"
   ]
  },
  {
   "cell_type": "markdown",
   "metadata": {},
   "source": [
    ">Since this is a progression of education, I am going to create a value that represents the amount of education as a number.  This will allow it to be used in the PCA later."
   ]
  },
  {
   "cell_type": "code",
   "execution_count": 24,
   "metadata": {},
   "outputs": [
    {
     "data": {
      "text/plain": [
       "4     2444\n",
       "9     1724\n",
       "6     1484\n",
       "2      832\n",
       "7      797\n",
       "10     701\n",
       "5      642\n",
       "1      552\n",
       "3      389\n",
       "8      208\n",
       "0      133\n",
       "11      94\n",
       "Name: EducationClass, dtype: int64"
      ]
     },
     "execution_count": 24,
     "metadata": {},
     "output_type": "execute_result"
    }
   ],
   "source": [
    "# create a list of conditions\n",
    "conditions = [(dfMedTr['Education'] == \"No Schooling Completed\")\n",
    "              , (dfMedTr['Education'] == \"Nursery School to 8th Grade\")\n",
    "              , (dfMedTr['Education'] == \"9th Grade to 12th Grade, No Diploma\")\n",
    "              , (dfMedTr['Education'] == \"GED or Alternative Credential\")\n",
    "              , (dfMedTr['Education'] == \"Regular High School Diploma\")\n",
    "              , (dfMedTr['Education'] == \"Some College, Less than 1 Year\")\n",
    "              , (dfMedTr['Education'] == \"Some College, 1 or More Years, No Degree\")\n",
    "              , (dfMedTr['Education'] == \"Associate's Degree\")\n",
    "              , (dfMedTr['Education'] == \"Professional School Degree\")\n",
    "              , (dfMedTr['Education'] == \"Bachelor's Degree\")\n",
    "              , (dfMedTr['Education'] == \"Master's Degree\")\n",
    "              , (dfMedTr['Education'] == \"Doctorate Degree\")]\n",
    "\n",
    "# create a list of the values\n",
    "values = [0,1,2,3,4,5,6,7,8,9,10,11]\n",
    "\n",
    "dfMedTr['EducationClass'] = np.select(conditions, values)\n",
    "dfMedTr.EducationClass.value_counts()"
   ]
  },
  {
   "cell_type": "code",
   "execution_count": 25,
   "metadata": {},
   "outputs": [
    {
     "data": {
      "text/plain": [
       "<AxesSubplot:>"
      ]
     },
     "execution_count": 25,
     "metadata": {},
     "output_type": "execute_result"
    },
    {
     "data": {
      "image/png": "[encoded data removed]",
      "text/plain": [
       "<Figure size 432x288 with 1 Axes>"
      ]
     },
     "metadata": {
      "needs_background": "light"
     },
     "output_type": "display_data"
    }
   ],
   "source": [
    "dfMedTr.EducationClass.hist()"
   ]
  },
  {
   "cell_type": "markdown",
   "metadata": {},
   "source": [
    "**Employment**\n",
    ">There are no null values, so we will review the current values."
   ]
  },
  {
   "cell_type": "code",
   "execution_count": 26,
   "metadata": {},
   "outputs": [
    {
     "data": {
      "text/plain": [
       "Full Time     6029\n",
       "Student       1017\n",
       "Part Time      991\n",
       "Unemployed     983\n",
       "Retired        980\n",
       "Name: Employment, dtype: int64"
      ]
     },
     "execution_count": 26,
     "metadata": {},
     "output_type": "execute_result"
    }
   ],
   "source": [
    "dfMedTr.Employment.value_counts()"
   ]
  },
  {
   "cell_type": "markdown",
   "metadata": {},
   "source": [
    ">There are no blanks that need to be filled, and I don't believe this would be appropriate to convert to a numeric representation, so we will leave it as is."
   ]
  },
  {
   "cell_type": "markdown",
   "metadata": {},
   "source": [
    "**Income**\n",
    ">There are nulls present, so we will review the data and make our conclusion on how to handle them."
   ]
  },
  {
   "cell_type": "code",
   "execution_count": 27,
   "metadata": {},
   "outputs": [
    {
     "data": {
      "text/plain": [
       "2464"
      ]
     },
     "execution_count": 27,
     "metadata": {},
     "output_type": "execute_result"
    }
   ],
   "source": [
    "dfMedTr.Income.isna().sum()"
   ]
  },
  {
   "cell_type": "code",
   "execution_count": 28,
   "metadata": {},
   "outputs": [
    {
     "data": {
      "text/plain": [
       "count      7536.000000\n",
       "mean      40484.438268\n",
       "std       28664.861050\n",
       "min         154.080000\n",
       "25%       19450.792500\n",
       "50%       33942.280000\n",
       "75%       54075.235000\n",
       "max      207249.130000\n",
       "Name: Income, dtype: float64"
      ]
     },
     "execution_count": 28,
     "metadata": {},
     "output_type": "execute_result"
    }
   ],
   "source": [
    "dfMedTr.Income.describe()"
   ]
  },
  {
   "cell_type": "code",
   "execution_count": 29,
   "metadata": {},
   "outputs": [
    {
     "data": {
      "text/plain": [
       "0    14572.40\n",
       "1    20474.03\n",
       "2    26915.85\n",
       "3    37132.97\n",
       "4    55506.92\n",
       "dtype: float64"
      ]
     },
     "execution_count": 29,
     "metadata": {},
     "output_type": "execute_result"
    }
   ],
   "source": [
    "dfMedTr.Income.mode()"
   ]
  },
  {
   "cell_type": "code",
   "execution_count": 30,
   "metadata": {},
   "outputs": [
    {
     "data": {
      "text/plain": [
       "33942.28"
      ]
     },
     "execution_count": 30,
     "metadata": {},
     "output_type": "execute_result"
    }
   ],
   "source": [
    "dfMedTr.Income.median()"
   ]
  },
  {
   "cell_type": "code",
   "execution_count": 31,
   "metadata": {},
   "outputs": [
    {
     "data": {
      "text/plain": [
       "<AxesSubplot:>"
      ]
     },
     "execution_count": 31,
     "metadata": {},
     "output_type": "execute_result"
    },
    {
     "data": {
      "image/png": "[encoded data removed]",
      "text/plain": [
       "<Figure size 432x288 with 1 Axes>"
      ]
     },
     "metadata": {
      "needs_background": "light"
     },
     "output_type": "display_data"
    }
   ],
   "source": [
    "dfMedTr.Income.hist()"
   ]
  },
  {
   "cell_type": "markdown",
   "metadata": {},
   "source": [
    ">Since this is a very continous number, there are multiple modes and none of them have very many instances.  Due to this, we will use the mean to fill the null values."
   ]
  },
  {
   "cell_type": "code",
   "execution_count": 32,
   "metadata": {
    "scrolled": true
   },
   "outputs": [],
   "source": [
    "dfMedTr.Income.fillna(dfMedTr.Income.mean(), inplace = True)"
   ]
  },
  {
   "cell_type": "code",
   "execution_count": 33,
   "metadata": {},
   "outputs": [
    {
     "data": {
      "text/plain": [
       "<AxesSubplot:>"
      ]
     },
     "execution_count": 33,
     "metadata": {},
     "output_type": "execute_result"
    },
    {
     "data": {
      "image/png": "[encoded data removed]",
      "text/plain": [
       "<Figure size 432x288 with 1 Axes>"
      ]
     },
     "metadata": {
      "needs_background": "light"
     },
     "output_type": "display_data"
    }
   ],
   "source": [
    "dfMedTr.Income.hist()"
   ]
  },
  {
   "cell_type": "markdown",
   "metadata": {},
   "source": [
    "**Marital**\n",
    ">There are no null values, so we will review the current values."
   ]
  },
  {
   "cell_type": "code",
   "execution_count": 34,
   "metadata": {},
   "outputs": [
    {
     "data": {
      "text/plain": [
       "Widowed          2045\n",
       "Married          2023\n",
       "Separated        1987\n",
       "Never Married    1984\n",
       "Divorced         1961\n",
       "Name: Marital, dtype: int64"
      ]
     },
     "execution_count": 34,
     "metadata": {},
     "output_type": "execute_result"
    }
   ],
   "source": [
    "dfMedTr.Marital.value_counts()"
   ]
  },
  {
   "cell_type": "markdown",
   "metadata": {},
   "source": [
    ">There is no further processing recommended for this field."
   ]
  },
  {
   "cell_type": "markdown",
   "metadata": {},
   "source": [
    "**ReAdmis**\n",
    ">There are no null values, so we will review the current values."
   ]
  },
  {
   "cell_type": "code",
   "execution_count": 35,
   "metadata": {},
   "outputs": [
    {
     "data": {
      "text/plain": [
       "No     6331\n",
       "Yes    3669\n",
       "Name: ReAdmis, dtype: int64"
      ]
     },
     "execution_count": 35,
     "metadata": {},
     "output_type": "execute_result"
    }
   ],
   "source": [
    "dfMedTr.ReAdmis.value_counts()"
   ]
  },
  {
   "cell_type": "markdown",
   "metadata": {},
   "source": [
    ">This is the value we hope to predict.  There are no blanks, so no further processing is recommended."
   ]
  },
  {
   "cell_type": "markdown",
   "metadata": {},
   "source": [
    "**Gender**\n",
    ">There are no null values, so we will review the current values."
   ]
  },
  {
   "cell_type": "code",
   "execution_count": 36,
   "metadata": {},
   "outputs": [
    {
     "data": {
      "text/plain": [
       "Female                  5018\n",
       "Male                    4768\n",
       "Prefer not to answer     214\n",
       "Name: Gender, dtype: int64"
      ]
     },
     "execution_count": 36,
     "metadata": {},
     "output_type": "execute_result"
    }
   ],
   "source": [
    "dfMedTr.Gender.value_counts()"
   ]
  },
  {
   "cell_type": "markdown",
   "metadata": {},
   "source": [
    ">There is no further processing recommended for this field."
   ]
  },
  {
   "cell_type": "markdown",
   "metadata": {},
   "source": [
    "**vitD_levels**\n",
    ">There are no null values, so we will review the current values."
   ]
  },
  {
   "cell_type": "code",
   "execution_count": 37,
   "metadata": {},
   "outputs": [
    {
     "data": {
      "text/plain": [
       "<AxesSubplot:>"
      ]
     },
     "execution_count": 37,
     "metadata": {},
     "output_type": "execute_result"
    },
    {
     "data": {
      "image/png": "[encoded data removed]",
      "text/plain": [
       "<Figure size 432x288 with 1 Axes>"
      ]
     },
     "metadata": {
      "needs_background": "light"
     },
     "output_type": "display_data"
    }
   ],
   "source": [
    "dfMedTr.vitD_levels.hist()"
   ]
  },
  {
   "cell_type": "markdown",
   "metadata": {},
   "source": [
    ">There are no blank values and no outliers (besides a large group of low and a small group of high results).  There is no further processing recommended for this field."
   ]
  },
  {
   "cell_type": "markdown",
   "metadata": {},
   "source": [
    "**doc_visits**\n",
    ">There are no null values, so we will review the current values."
   ]
  },
  {
   "cell_type": "code",
   "execution_count": 38,
   "metadata": {},
   "outputs": [
    {
     "data": {
      "text/plain": [
       "<AxesSubplot:>"
      ]
     },
     "execution_count": 38,
     "metadata": {},
     "output_type": "execute_result"
    },
    {
     "data": {
      "image/png": "[encoded data removed]",
      "text/plain": [
       "<Figure size 432x288 with 1 Axes>"
      ]
     },
     "metadata": {
      "needs_background": "light"
     },
     "output_type": "display_data"
    }
   ],
   "source": [
    "dfMedTr.doc_visits.hist()"
   ]
  },
  {
   "cell_type": "markdown",
   "metadata": {},
   "source": [
    ">There is no further processing recommended for this field."
   ]
  },
  {
   "cell_type": "markdown",
   "metadata": {},
   "source": [
    "**full_meals_eaten**\n",
    ">There are no null values, so we will review the current values."
   ]
  },
  {
   "cell_type": "code",
   "execution_count": 39,
   "metadata": {},
   "outputs": [
    {
     "data": {
      "text/plain": [
       "<AxesSubplot:>"
      ]
     },
     "execution_count": 39,
     "metadata": {},
     "output_type": "execute_result"
    },
    {
     "data": {
      "image/png": "[encoded data removed]",
      "text/plain": [
       "<Figure size 432x288 with 1 Axes>"
      ]
     },
     "metadata": {
      "needs_background": "light"
     },
     "output_type": "display_data"
    }
   ],
   "source": [
    "dfMedTr.full_meals_eaten.hist()"
   ]
  },
  {
   "cell_type": "markdown",
   "metadata": {},
   "source": [
    ">There is no further processing recommended for this field."
   ]
  },
  {
   "cell_type": "markdown",
   "metadata": {},
   "source": [
    "**vitD_supp**\n",
    ">There are no null values, so we will review the current values."
   ]
  },
  {
   "cell_type": "code",
   "execution_count": 40,
   "metadata": {},
   "outputs": [
    {
     "data": {
      "text/plain": [
       "<AxesSubplot:>"
      ]
     },
     "execution_count": 40,
     "metadata": {},
     "output_type": "execute_result"
    },
    {
     "data": {
      "image/png": "[encoded data removed]",
      "text/plain": [
       "<Figure size 432x288 with 1 Axes>"
      ]
     },
     "metadata": {
      "needs_background": "light"
     },
     "output_type": "display_data"
    }
   ],
   "source": [
    "dfMedTr.vitD_supp.hist()"
   ]
  },
  {
   "cell_type": "markdown",
   "metadata": {},
   "source": [
    ">There is no further processing recommended for this field."
   ]
  },
  {
   "cell_type": "markdown",
   "metadata": {},
   "source": [
    "**Soft_drink**\n",
    ">There null values present, so we will review the current values and make a determination on how to proceed."
   ]
  },
  {
   "cell_type": "code",
   "execution_count": 41,
   "metadata": {},
   "outputs": [
    {
     "data": {
      "text/plain": [
       "No     5589\n",
       "Yes    1944\n",
       "Name: Soft_drink, dtype: int64"
      ]
     },
     "execution_count": 41,
     "metadata": {},
     "output_type": "execute_result"
    }
   ],
   "source": [
    "dfMedTr.Soft_drink.value_counts()"
   ]
  },
  {
   "cell_type": "markdown",
   "metadata": {},
   "source": [
    ">Since only half of the population drinks any soda daily, and the average for them is under 3, I believe that we would be safe filling the remaining 2,467 records with \"No\"."
   ]
  },
  {
   "cell_type": "code",
   "execution_count": 42,
   "metadata": {},
   "outputs": [],
   "source": [
    "dfMedTr.Soft_drink.fillna(\"No\", inplace = True)"
   ]
  },
  {
   "cell_type": "markdown",
   "metadata": {},
   "source": [
    "**Initial_Admin**\n",
    ">There are no null values, so we will review the current values."
   ]
  },
  {
   "cell_type": "code",
   "execution_count": 43,
   "metadata": {},
   "outputs": [
    {
     "data": {
      "text/plain": [
       "Emergency Admission      5060\n",
       "Elective Admission       2504\n",
       "Observation Admission    2436\n",
       "Name: Initial_Admin, dtype: int64"
      ]
     },
     "execution_count": 43,
     "metadata": {},
     "output_type": "execute_result"
    }
   ],
   "source": [
    "dfMedTr.Initial_Admin.value_counts()"
   ]
  },
  {
   "cell_type": "markdown",
   "metadata": {},
   "source": [
    ">There is no further processing recommended for this field."
   ]
  },
  {
   "cell_type": "markdown",
   "metadata": {},
   "source": [
    "**HighBlood**\n",
    ">There are no null values, so we will review the current values."
   ]
  },
  {
   "cell_type": "code",
   "execution_count": 44,
   "metadata": {},
   "outputs": [
    {
     "data": {
      "text/plain": [
       "No     5910\n",
       "Yes    4090\n",
       "Name: HighBlood, dtype: int64"
      ]
     },
     "execution_count": 44,
     "metadata": {},
     "output_type": "execute_result"
    }
   ],
   "source": [
    "dfMedTr.HighBlood.value_counts()"
   ]
  },
  {
   "cell_type": "markdown",
   "metadata": {},
   "source": [
    ">There is no further processing recommended for this field."
   ]
  },
  {
   "cell_type": "markdown",
   "metadata": {},
   "source": [
    "**Stroke**\n",
    ">There are no null values, so we will review the current values."
   ]
  },
  {
   "cell_type": "code",
   "execution_count": 45,
   "metadata": {},
   "outputs": [
    {
     "data": {
      "text/plain": [
       "No     8007\n",
       "Yes    1993\n",
       "Name: Stroke, dtype: int64"
      ]
     },
     "execution_count": 45,
     "metadata": {},
     "output_type": "execute_result"
    }
   ],
   "source": [
    "dfMedTr.Stroke.value_counts()"
   ]
  },
  {
   "cell_type": "markdown",
   "metadata": {},
   "source": [
    ">There is no further processing recommended for this field."
   ]
  },
  {
   "cell_type": "markdown",
   "metadata": {},
   "source": [
    "**Complication_Risk**\n",
    ">There are no null values, so we will review the current values."
   ]
  },
  {
   "cell_type": "code",
   "execution_count": 46,
   "metadata": {},
   "outputs": [
    {
     "data": {
      "text/plain": [
       "<AxesSubplot:>"
      ]
     },
     "execution_count": 46,
     "metadata": {},
     "output_type": "execute_result"
    },
    {
     "data": {
      "image/png": "[encoded data removed]",
      "text/plain": [
       "<Figure size 432x288 with 1 Axes>"
      ]
     },
     "metadata": {
      "needs_background": "light"
     },
     "output_type": "display_data"
    }
   ],
   "source": [
    "dfMedTr.Complication_Risk.hist()"
   ]
  },
  {
   "cell_type": "markdown",
   "metadata": {},
   "source": [
    ">Since this is a progression, we will encode this as a number so it can be used in the PCA."
   ]
  },
  {
   "cell_type": "code",
   "execution_count": 47,
   "metadata": {},
   "outputs": [
    {
     "data": {
      "text/plain": [
       "<AxesSubplot:>"
      ]
     },
     "execution_count": 47,
     "metadata": {},
     "output_type": "execute_result"
    },
    {
     "data": {
      "image/png": "[encoded data removed]",
      "text/plain": [
       "<Figure size 432x288 with 1 Axes>"
      ]
     },
     "metadata": {
      "needs_background": "light"
     },
     "output_type": "display_data"
    }
   ],
   "source": [
    "# create a list of conditions\n",
    "conditions = [(dfMedTr['Complication_Risk'] == \"Low\")\n",
    "              , (dfMedTr['Complication_Risk'] == \"Medium\")\n",
    "              , (dfMedTr['Complication_Risk'] == \"High\")]\n",
    "\n",
    "# create a list of the values\n",
    "values = [1,2,3]\n",
    "\n",
    "dfMedTr['Complication_RiskClass'] = np.select(conditions, values)\n",
    "dfMedTr.Complication_RiskClass.hist()"
   ]
  },
  {
   "cell_type": "markdown",
   "metadata": {},
   "source": [
    "**Overweight**\n",
    ">There are null values, so we will review and decide how to proceed."
   ]
  },
  {
   "cell_type": "code",
   "execution_count": 48,
   "metadata": {
    "scrolled": true
   },
   "outputs": [
    {
     "data": {
      "text/plain": [
       "1.0    6395\n",
       "0.0    2623\n",
       "Name: Overweight, dtype: int64"
      ]
     },
     "execution_count": 48,
     "metadata": {},
     "output_type": "execute_result"
    }
   ],
   "source": [
    "dfMedTr.Overweight.value_counts()"
   ]
  },
  {
   "cell_type": "markdown",
   "metadata": {},
   "source": [
    ">Since almost 40% of Americans are overweight, we will default the null values to 0.0 so we get closer to the national average."
   ]
  },
  {
   "cell_type": "code",
   "execution_count": 49,
   "metadata": {},
   "outputs": [],
   "source": [
    "dfMedTr.Overweight.fillna(0.0, inplace = True)"
   ]
  },
  {
   "cell_type": "markdown",
   "metadata": {},
   "source": [
    "**Arthritis**\n",
    ">There are no null values, so we will review the current values."
   ]
  },
  {
   "cell_type": "code",
   "execution_count": 50,
   "metadata": {},
   "outputs": [
    {
     "data": {
      "text/plain": [
       "No     6426\n",
       "Yes    3574\n",
       "Name: Arthritis, dtype: int64"
      ]
     },
     "execution_count": 50,
     "metadata": {},
     "output_type": "execute_result"
    }
   ],
   "source": [
    "dfMedTr.Arthritis.value_counts()"
   ]
  },
  {
   "cell_type": "markdown",
   "metadata": {},
   "source": [
    ">There is no further processing recommended for this field."
   ]
  },
  {
   "cell_type": "markdown",
   "metadata": {},
   "source": [
    "**Diabetes**\n",
    ">There are no null values, so we will review the current values."
   ]
  },
  {
   "cell_type": "code",
   "execution_count": 51,
   "metadata": {},
   "outputs": [
    {
     "data": {
      "text/plain": [
       "No     7262\n",
       "Yes    2738\n",
       "Name: Diabetes, dtype: int64"
      ]
     },
     "execution_count": 51,
     "metadata": {},
     "output_type": "execute_result"
    }
   ],
   "source": [
    "dfMedTr.Diabetes.value_counts()"
   ]
  },
  {
   "cell_type": "markdown",
   "metadata": {},
   "source": [
    ">There is no further processing recommended for this field."
   ]
  },
  {
   "cell_type": "markdown",
   "metadata": {},
   "source": [
    "**Hyperlipidemia**\n",
    ">There are no null values, so we will review the current values."
   ]
  },
  {
   "cell_type": "code",
   "execution_count": 52,
   "metadata": {},
   "outputs": [
    {
     "data": {
      "text/plain": [
       "No     6628\n",
       "Yes    3372\n",
       "Name: Hyperlipidemia, dtype: int64"
      ]
     },
     "execution_count": 52,
     "metadata": {},
     "output_type": "execute_result"
    }
   ],
   "source": [
    "dfMedTr.Hyperlipidemia.value_counts()"
   ]
  },
  {
   "cell_type": "markdown",
   "metadata": {},
   "source": [
    ">There is no further processing recommended for this field."
   ]
  },
  {
   "cell_type": "markdown",
   "metadata": {},
   "source": [
    "**BackPain**\n",
    ">There are no null values, so we will review the current values."
   ]
  },
  {
   "cell_type": "code",
   "execution_count": 53,
   "metadata": {},
   "outputs": [
    {
     "data": {
      "text/plain": [
       "No     5886\n",
       "Yes    4114\n",
       "Name: BackPain, dtype: int64"
      ]
     },
     "execution_count": 53,
     "metadata": {},
     "output_type": "execute_result"
    }
   ],
   "source": [
    "dfMedTr.BackPain.value_counts()"
   ]
  },
  {
   "cell_type": "markdown",
   "metadata": {},
   "source": [
    ">There is no further processing recommended for this field."
   ]
  },
  {
   "cell_type": "markdown",
   "metadata": {},
   "source": [
    "**Anxiety**\n",
    ">There are null values, so we will review and decide how to proceed."
   ]
  },
  {
   "cell_type": "code",
   "execution_count": 54,
   "metadata": {},
   "outputs": [
    {
     "data": {
      "text/plain": [
       "<AxesSubplot:>"
      ]
     },
     "execution_count": 54,
     "metadata": {},
     "output_type": "execute_result"
    },
    {
     "data": {
      "image/png": "[encoded data removed]",
      "text/plain": [
       "<Figure size 432x288 with 1 Axes>"
      ]
     },
     "metadata": {
      "needs_background": "light"
     },
     "output_type": "display_data"
    }
   ],
   "source": [
    "dfMedTr.Anxiety.hist()"
   ]
  },
  {
   "cell_type": "markdown",
   "metadata": {},
   "source": [
    ">Since only 18% of the population has anxiety disorders, we will assume that the null values should be 0 (False)."
   ]
  },
  {
   "cell_type": "code",
   "execution_count": 55,
   "metadata": {},
   "outputs": [],
   "source": [
    "dfMedTr.Anxiety.fillna(0.0, inplace = True)"
   ]
  },
  {
   "cell_type": "markdown",
   "metadata": {},
   "source": [
    "**Allergic_rhinitis**\n",
    ">There are no null values, so we will review the current values."
   ]
  },
  {
   "cell_type": "code",
   "execution_count": 56,
   "metadata": {},
   "outputs": [
    {
     "data": {
      "text/plain": [
       "No     6059\n",
       "Yes    3941\n",
       "Name: Allergic_rhinitis, dtype: int64"
      ]
     },
     "execution_count": 56,
     "metadata": {},
     "output_type": "execute_result"
    }
   ],
   "source": [
    "dfMedTr.Allergic_rhinitis.value_counts()"
   ]
  },
  {
   "cell_type": "markdown",
   "metadata": {},
   "source": [
    ">There is no further processing recommended for this field."
   ]
  },
  {
   "cell_type": "markdown",
   "metadata": {},
   "source": [
    "**Reflux_esophagitis**\n",
    ">There are no null values, so we will review the current values."
   ]
  },
  {
   "cell_type": "code",
   "execution_count": 57,
   "metadata": {},
   "outputs": [
    {
     "data": {
      "text/plain": [
       "No     5865\n",
       "Yes    4135\n",
       "Name: Reflux_esophagitis, dtype: int64"
      ]
     },
     "execution_count": 57,
     "metadata": {},
     "output_type": "execute_result"
    }
   ],
   "source": [
    "dfMedTr.Reflux_esophagitis.value_counts()"
   ]
  },
  {
   "cell_type": "markdown",
   "metadata": {},
   "source": [
    ">There is no further processing recommended for this field."
   ]
  },
  {
   "cell_type": "markdown",
   "metadata": {},
   "source": [
    "**Asthma**\n",
    ">There are no null values, so we will review the current values."
   ]
  },
  {
   "cell_type": "code",
   "execution_count": 58,
   "metadata": {},
   "outputs": [
    {
     "data": {
      "text/plain": [
       "No     7107\n",
       "Yes    2893\n",
       "Name: Asthma, dtype: int64"
      ]
     },
     "execution_count": 58,
     "metadata": {},
     "output_type": "execute_result"
    }
   ],
   "source": [
    "dfMedTr.Asthma.value_counts()"
   ]
  },
  {
   "cell_type": "markdown",
   "metadata": {},
   "source": [
    ">There is no further processing recommended for this field."
   ]
  },
  {
   "cell_type": "markdown",
   "metadata": {},
   "source": [
    "**Services**\n",
    ">There are no null values, so we will review the current values."
   ]
  },
  {
   "cell_type": "code",
   "execution_count": 59,
   "metadata": {},
   "outputs": [
    {
     "data": {
      "text/plain": [
       "Blood Work     5265\n",
       "Intravenous    3130\n",
       "CT Scan        1225\n",
       "MRI             380\n",
       "Name: Services, dtype: int64"
      ]
     },
     "execution_count": 59,
     "metadata": {},
     "output_type": "execute_result"
    }
   ],
   "source": [
    "dfMedTr.Services.value_counts()"
   ]
  },
  {
   "cell_type": "markdown",
   "metadata": {},
   "source": [
    ">There is no further processing recommended for this field."
   ]
  },
  {
   "cell_type": "markdown",
   "metadata": {},
   "source": [
    "**Initial_Days**\n",
    ">There are null values present, so we will review and decide how to proceed."
   ]
  },
  {
   "cell_type": "code",
   "execution_count": 60,
   "metadata": {},
   "outputs": [
    {
     "data": {
      "text/plain": [
       "<AxesSubplot:>"
      ]
     },
     "execution_count": 60,
     "metadata": {},
     "output_type": "execute_result"
    },
    {
     "data": {
      "image/png": "[encoded data removed]",
      "text/plain": [
       "<Figure size 432x288 with 1 Axes>"
      ]
     },
     "metadata": {
      "needs_background": "light"
     },
     "output_type": "display_data"
    }
   ],
   "source": [
    "dfMedTr.Initial_Days.hist()"
   ]
  },
  {
   "cell_type": "code",
   "execution_count": 61,
   "metadata": {},
   "outputs": [
    {
     "data": {
      "text/plain": [
       "count    8944.000000\n",
       "mean       34.432082\n",
       "std        26.287050\n",
       "min         1.001981\n",
       "25%         7.911709\n",
       "50%        34.446941\n",
       "75%        61.124654\n",
       "max        71.981486\n",
       "Name: Initial_Days, dtype: float64"
      ]
     },
     "execution_count": 61,
     "metadata": {},
     "output_type": "execute_result"
    }
   ],
   "source": [
    "dfMedTr.Initial_Days.describe()"
   ]
  },
  {
   "cell_type": "code",
   "execution_count": 62,
   "metadata": {},
   "outputs": [
    {
     "data": {
      "text/plain": [
       "34.4469412918404"
      ]
     },
     "execution_count": 62,
     "metadata": {},
     "output_type": "execute_result"
    }
   ],
   "source": [
    "dfMedTr.Initial_Days.median()"
   ]
  },
  {
   "cell_type": "markdown",
   "metadata": {},
   "source": [
    ">Since I feel like this would have a large impact (or at least correlation) with readmissions, I don't feel comfortable defaulting this to ANY value.  Therefore we will remove the records that are missing this information."
   ]
  },
  {
   "cell_type": "code",
   "execution_count": 63,
   "metadata": {},
   "outputs": [],
   "source": [
    "dfMedTr.dropna(subset = ['Initial_Days'], inplace = True)"
   ]
  },
  {
   "cell_type": "code",
   "execution_count": 64,
   "metadata": {},
   "outputs": [
    {
     "data": {
      "text/plain": [
       "<AxesSubplot:>"
      ]
     },
     "execution_count": 64,
     "metadata": {},
     "output_type": "execute_result"
    },
    {
     "data": {
      "image/png": "[encoded data removed]",
      "text/plain": [
       "<Figure size 432x288 with 1 Axes>"
      ]
     },
     "metadata": {
      "needs_background": "light"
     },
     "output_type": "display_data"
    }
   ],
   "source": [
    "## item1-8 - no nulls present, make sure the values all range between 1 and 8\n",
    "dfMedTr.boxplot(['item1','item2','item3','item4','item5','item6','item7','item8'])"
   ]
  },
  {
   "cell_type": "code",
   "execution_count": 65,
   "metadata": {},
   "outputs": [],
   "source": [
    "## Remove the columns that we converted to numeric representations\n",
    "dfMedTr.drop(columns = ['Area','Education','Complication_Risk'], inplace = True)"
   ]
  },
  {
   "cell_type": "code",
   "execution_count": 66,
   "metadata": {},
   "outputs": [
    {
     "data": {
      "text/plain": [
       "(8944, 41)"
      ]
     },
     "execution_count": 66,
     "metadata": {},
     "output_type": "execute_result"
    }
   ],
   "source": [
    "dfMedTr.shape"
   ]
  },
  {
   "cell_type": "markdown",
   "metadata": {},
   "source": [
    "##### Data Cleaning Findings\n",
    "\n",
    "The only real limitation during the cleaning was the empty records for Initial_days.  Due to my perceived sensitvity of that value, I don't feel comfortable defaulting to any value.  Because of this, our dataset shrank by around 10%.\n",
    "\n",
    "We will now save the dataset and begin Principal Component Analysis."
   ]
  },
  {
   "cell_type": "code",
   "execution_count": 67,
   "metadata": {},
   "outputs": [],
   "source": [
    "dfMedTr.to_csv('medical_cleaned.csv')"
   ]
  },
  {
   "cell_type": "markdown",
   "metadata": {},
   "source": [
    "#### E.  Apply principal component analysis (PCA) to identify the significant features of the data set by doing the following: \n",
    "\n",
    "The Prinicpal Components will now be analyzed.  They are the continuous columns, that have impact on the question/result.  Since we removed the columns that had no impact - we will now grab the subset of continuous columns.\n",
    "<br/>\n",
    "<br/>\n",
    "I originally considerd converted the yes/no columns to 0 and 1, but research suggested that binary columns are not best suited by PCA.  Therefore I am only including columns that go beyond true/false, 0/1, yes/no."
   ]
  },
  {
   "cell_type": "code",
   "execution_count": 68,
   "metadata": {},
   "outputs": [
    {
     "data": {
      "text/plain": [
       "(8944, 21)"
      ]
     },
     "execution_count": 68,
     "metadata": {},
     "output_type": "execute_result"
    }
   ],
   "source": [
    "from sklearn.decomposition import PCA\n",
    "import matplotlib.pyplot as plt\n",
    "\n",
    "dfMedForPCA = dfMedTr[['Lat','Lng','Population','AreaClass','Children','Age','EducationClass'\n",
    "                       ,'Income','vitD_levels','doc_visits','full_meals_eaten','vitD_supp'\n",
    "                       ,'Complication_RiskClass','item1','item2','item3'\n",
    "                       ,'item4','item5','item6','item7','item8']]\n",
    "dfMedForPCA.shape"
   ]
  },
  {
   "cell_type": "code",
   "execution_count": 69,
   "metadata": {},
   "outputs": [
    {
     "data": {
      "image/png": "[encoded data removed]",
      "text/plain": [
       "<Figure size 432x288 with 1 Axes>"
      ]
     },
     "metadata": {
      "needs_background": "light"
     },
     "output_type": "display_data"
    }
   ],
   "source": [
    "# Normalize\n",
    "dfMedForPCA = (dfMedForPCA - dfMedForPCA.mean()) / dfMedForPCA.std()\n",
    "\n",
    "# Extracts ALL - shape[1] is the number of columns\n",
    "pca = PCA(n_components = dfMedForPCA.shape[1])\n",
    "\n",
    "# Fit and collect data on the PCA\n",
    "pca.fit(dfMedForPCA)\n",
    "med_pca = pd.DataFrame(pca.transform(dfMedForPCA)\n",
    "                       , columns=['PC1','PC2','PC3','PC4','PC5','PC6','PC7','PC8','PC9','PC10'\n",
    "                                  ,'PC11','PC12','PC13','PC14','PC15','PC16','PC17','PC18'\n",
    "                                  ,'PC19','PC20','PC21'])\n",
    "\n",
    "# Display scree plot\n",
    "plt.plot(pca.explained_variance_ratio_)\n",
    "plt.xlabel('number of components')\n",
    "plt.ylabel('explained variance')\n",
    "plt.show()"
   ]
  },
  {
   "cell_type": "code",
   "execution_count": 70,
   "metadata": {},
   "outputs": [
    {
     "data": {
      "image/png": "[encoded data removed]",
      "text/plain": [
       "<Figure size 432x288 with 1 Axes>"
      ]
     },
     "metadata": {
      "needs_background": "light"
     },
     "output_type": "display_data"
    }
   ],
   "source": [
    "# Display eigenvalues scree plot\n",
    "import numpy as np\n",
    "cov_matrix = np.dot(dfMedForPCA.T, dfMedForPCA) / dfMedForPCA.shape[0]\n",
    "eigenvalues = [np.dot(eigenvector.T, np.dot(cov_matrix, eigenvector)) for eigenvector in pca.components_]\n",
    "plt.plot(eigenvalues)\n",
    "plt.xlabel('number of components')\n",
    "plt.ylabel('eigenvalue')\n",
    "plt.show()"
   ]
  },
  {
   "cell_type": "code",
   "execution_count": 71,
   "metadata": {},
   "outputs": [
    {
     "data": {
      "text/plain": [
       "[2.9614769985357228,\n",
       " 1.6484717185216233,\n",
       " 1.2297449016612911,\n",
       " 1.0546414122212788,\n",
       " 1.0392182980612388,\n",
       " 1.0299903019017713,\n",
       " 1.022339896832639,\n",
       " 1.013976773448205,\n",
       " 1.000646344372877,\n",
       " 0.9901484889025732,\n",
       " 0.9880842493558784,\n",
       " 0.9780110701140265,\n",
       " 0.9622439825230933,\n",
       " 0.9511387091719605,\n",
       " 0.7674526191124847,\n",
       " 0.7452758311222754,\n",
       " 0.6965162244483725,\n",
       " 0.586770867284266,\n",
       " 0.5328844918022342,\n",
       " 0.47236824988594595,\n",
       " 0.3262506279653295]"
      ]
     },
     "execution_count": 71,
     "metadata": {},
     "output_type": "execute_result"
    }
   ],
   "source": [
    "eigenvalues"
   ]
  },
  {
   "cell_type": "code",
   "execution_count": 72,
   "metadata": {
    "scrolled": false
   },
   "outputs": [
    {
     "data": {
      "text/html": [
       "<div>\n",
       "<style scoped>\n",
       "    .dataframe tbody tr th:only-of-type {\n",
       "        vertical-align: middle;\n",
       "    }\n",
       "\n",
       "    .dataframe tbody tr th {\n",
       "        vertical-align: top;\n",
       "    }\n",
       "\n",
       "    .dataframe thead th {\n",
       "        text-align: right;\n",
       "    }\n",
       "</style>\n",
       "<table border=\"1\" class=\"dataframe\">\n",
       "  <thead>\n",
       "    <tr style=\"text-align: right;\">\n",
       "      <th></th>\n",
       "      <th>PC1</th>\n",
       "      <th>PC2</th>\n",
       "      <th>PC3</th>\n",
       "      <th>PC4</th>\n",
       "      <th>PC5</th>\n",
       "      <th>PC6</th>\n",
       "      <th>PC7</th>\n",
       "      <th>PC8</th>\n",
       "      <th>PC9</th>\n",
       "      <th>PC10</th>\n",
       "      <th>PC11</th>\n",
       "      <th>PC12</th>\n",
       "      <th>PC13</th>\n",
       "      <th>PC14</th>\n",
       "      <th>PC15</th>\n",
       "      <th>PC16</th>\n",
       "      <th>PC17</th>\n",
       "      <th>PC18</th>\n",
       "      <th>PC19</th>\n",
       "      <th>PC20</th>\n",
       "      <th>PC21</th>\n",
       "    </tr>\n",
       "  </thead>\n",
       "  <tbody>\n",
       "    <tr>\n",
       "      <th>Lat</th>\n",
       "      <td>0.008710</td>\n",
       "      <td>0.001053</td>\n",
       "      <td>-0.715304</td>\n",
       "      <td>0.089132</td>\n",
       "      <td>0.063578</td>\n",
       "      <td>0.023064</td>\n",
       "      <td>0.018933</td>\n",
       "      <td>-0.010820</td>\n",
       "      <td>0.008821</td>\n",
       "      <td>-0.025137</td>\n",
       "      <td>-0.046676</td>\n",
       "      <td>-0.031378</td>\n",
       "      <td>-0.015550</td>\n",
       "      <td>-0.104309</td>\n",
       "      <td>0.133992</td>\n",
       "      <td>-0.650974</td>\n",
       "      <td>-0.133362</td>\n",
       "      <td>-0.026892</td>\n",
       "      <td>0.006185</td>\n",
       "      <td>-0.001673</td>\n",
       "      <td>0.001575</td>\n",
       "    </tr>\n",
       "    <tr>\n",
       "      <th>Lng</th>\n",
       "      <td>0.002599</td>\n",
       "      <td>-0.002246</td>\n",
       "      <td>0.260457</td>\n",
       "      <td>-0.608438</td>\n",
       "      <td>-0.272427</td>\n",
       "      <td>0.331488</td>\n",
       "      <td>0.162968</td>\n",
       "      <td>0.093598</td>\n",
       "      <td>-0.101845</td>\n",
       "      <td>0.207658</td>\n",
       "      <td>0.234163</td>\n",
       "      <td>-0.219840</td>\n",
       "      <td>-0.160611</td>\n",
       "      <td>0.074451</td>\n",
       "      <td>0.030929</td>\n",
       "      <td>-0.388987</td>\n",
       "      <td>-0.046552</td>\n",
       "      <td>0.002728</td>\n",
       "      <td>0.002656</td>\n",
       "      <td>-0.005874</td>\n",
       "      <td>0.007462</td>\n",
       "    </tr>\n",
       "    <tr>\n",
       "      <th>Population</th>\n",
       "      <td>0.006047</td>\n",
       "      <td>0.033015</td>\n",
       "      <td>0.626842</td>\n",
       "      <td>0.320697</td>\n",
       "      <td>0.070157</td>\n",
       "      <td>-0.168930</td>\n",
       "      <td>-0.079989</td>\n",
       "      <td>-0.123143</td>\n",
       "      <td>0.086470</td>\n",
       "      <td>-0.120919</td>\n",
       "      <td>-0.166893</td>\n",
       "      <td>0.093817</td>\n",
       "      <td>0.095939</td>\n",
       "      <td>0.039763</td>\n",
       "      <td>0.138927</td>\n",
       "      <td>-0.584990</td>\n",
       "      <td>-0.124561</td>\n",
       "      <td>-0.014956</td>\n",
       "      <td>-0.025620</td>\n",
       "      <td>-0.024772</td>\n",
       "      <td>-0.003525</td>\n",
       "    </tr>\n",
       "    <tr>\n",
       "      <th>AreaClass</th>\n",
       "      <td>-0.003756</td>\n",
       "      <td>-0.006510</td>\n",
       "      <td>0.074807</td>\n",
       "      <td>0.169639</td>\n",
       "      <td>0.209057</td>\n",
       "      <td>-0.433032</td>\n",
       "      <td>0.328055</td>\n",
       "      <td>0.303349</td>\n",
       "      <td>-0.330640</td>\n",
       "      <td>-0.140892</td>\n",
       "      <td>0.293219</td>\n",
       "      <td>-0.267200</td>\n",
       "      <td>-0.467227</td>\n",
       "      <td>-0.156312</td>\n",
       "      <td>0.036233</td>\n",
       "      <td>-0.019687</td>\n",
       "      <td>0.038498</td>\n",
       "      <td>-0.018012</td>\n",
       "      <td>0.041316</td>\n",
       "      <td>-0.014478</td>\n",
       "      <td>0.001717</td>\n",
       "    </tr>\n",
       "    <tr>\n",
       "      <th>Children</th>\n",
       "      <td>0.000342</td>\n",
       "      <td>0.021292</td>\n",
       "      <td>0.017054</td>\n",
       "      <td>0.257086</td>\n",
       "      <td>-0.077145</td>\n",
       "      <td>-0.081375</td>\n",
       "      <td>0.295094</td>\n",
       "      <td>0.191204</td>\n",
       "      <td>0.479462</td>\n",
       "      <td>0.731753</td>\n",
       "      <td>0.014675</td>\n",
       "      <td>0.090312</td>\n",
       "      <td>-0.098558</td>\n",
       "      <td>-0.105946</td>\n",
       "      <td>0.035517</td>\n",
       "      <td>0.009271</td>\n",
       "      <td>0.004108</td>\n",
       "      <td>0.015960</td>\n",
       "      <td>-0.023305</td>\n",
       "      <td>-0.011490</td>\n",
       "      <td>0.000006</td>\n",
       "    </tr>\n",
       "    <tr>\n",
       "      <th>Age</th>\n",
       "      <td>-0.001813</td>\n",
       "      <td>0.006600</td>\n",
       "      <td>0.012650</td>\n",
       "      <td>-0.431315</td>\n",
       "      <td>0.045426</td>\n",
       "      <td>-0.280270</td>\n",
       "      <td>0.293836</td>\n",
       "      <td>-0.021883</td>\n",
       "      <td>0.346659</td>\n",
       "      <td>-0.317314</td>\n",
       "      <td>0.171944</td>\n",
       "      <td>0.479808</td>\n",
       "      <td>0.131720</td>\n",
       "      <td>-0.382259</td>\n",
       "      <td>0.037549</td>\n",
       "      <td>-0.021324</td>\n",
       "      <td>-0.007574</td>\n",
       "      <td>0.014935</td>\n",
       "      <td>-0.000580</td>\n",
       "      <td>0.003647</td>\n",
       "      <td>-0.007368</td>\n",
       "    </tr>\n",
       "    <tr>\n",
       "      <th>EducationClass</th>\n",
       "      <td>0.003588</td>\n",
       "      <td>0.018282</td>\n",
       "      <td>0.069661</td>\n",
       "      <td>0.033212</td>\n",
       "      <td>0.015963</td>\n",
       "      <td>0.375361</td>\n",
       "      <td>-0.337994</td>\n",
       "      <td>0.563164</td>\n",
       "      <td>0.191914</td>\n",
       "      <td>-0.219570</td>\n",
       "      <td>-0.244786</td>\n",
       "      <td>0.164775</td>\n",
       "      <td>-0.406515</td>\n",
       "      <td>-0.286412</td>\n",
       "      <td>0.020758</td>\n",
       "      <td>0.002741</td>\n",
       "      <td>0.011695</td>\n",
       "      <td>-0.016983</td>\n",
       "      <td>0.007690</td>\n",
       "      <td>-0.027596</td>\n",
       "      <td>-0.008389</td>\n",
       "    </tr>\n",
       "    <tr>\n",
       "      <th>Income</th>\n",
       "      <td>0.000572</td>\n",
       "      <td>-0.014397</td>\n",
       "      <td>0.053273</td>\n",
       "      <td>0.140167</td>\n",
       "      <td>0.442562</td>\n",
       "      <td>0.295799</td>\n",
       "      <td>-0.092326</td>\n",
       "      <td>0.319888</td>\n",
       "      <td>-0.161890</td>\n",
       "      <td>0.115785</td>\n",
       "      <td>0.547727</td>\n",
       "      <td>0.188573</td>\n",
       "      <td>0.447680</td>\n",
       "      <td>-0.016580</td>\n",
       "      <td>-0.047426</td>\n",
       "      <td>-0.068693</td>\n",
       "      <td>0.009955</td>\n",
       "      <td>0.004439</td>\n",
       "      <td>0.001627</td>\n",
       "      <td>-0.008345</td>\n",
       "      <td>-0.008173</td>\n",
       "    </tr>\n",
       "    <tr>\n",
       "      <th>vitD_levels</th>\n",
       "      <td>-0.004683</td>\n",
       "      <td>-0.043230</td>\n",
       "      <td>0.008210</td>\n",
       "      <td>-0.280384</td>\n",
       "      <td>0.217141</td>\n",
       "      <td>-0.219936</td>\n",
       "      <td>0.157065</td>\n",
       "      <td>0.489197</td>\n",
       "      <td>-0.061622</td>\n",
       "      <td>0.058624</td>\n",
       "      <td>-0.539932</td>\n",
       "      <td>-0.255511</td>\n",
       "      <td>0.434064</td>\n",
       "      <td>0.078571</td>\n",
       "      <td>0.012876</td>\n",
       "      <td>-0.005532</td>\n",
       "      <td>-0.021044</td>\n",
       "      <td>-0.009326</td>\n",
       "      <td>-0.019313</td>\n",
       "      <td>0.003196</td>\n",
       "      <td>0.013416</td>\n",
       "    </tr>\n",
       "    <tr>\n",
       "      <th>doc_visits</th>\n",
       "      <td>0.010128</td>\n",
       "      <td>-0.011262</td>\n",
       "      <td>0.012482</td>\n",
       "      <td>-0.022288</td>\n",
       "      <td>0.429508</td>\n",
       "      <td>0.188729</td>\n",
       "      <td>0.103580</td>\n",
       "      <td>-0.136076</td>\n",
       "      <td>0.613059</td>\n",
       "      <td>-0.254439</td>\n",
       "      <td>0.123814</td>\n",
       "      <td>-0.496581</td>\n",
       "      <td>-0.070714</td>\n",
       "      <td>0.194605</td>\n",
       "      <td>-0.038822</td>\n",
       "      <td>0.039824</td>\n",
       "      <td>-0.030246</td>\n",
       "      <td>-0.014396</td>\n",
       "      <td>0.005778</td>\n",
       "      <td>-0.010675</td>\n",
       "      <td>-0.006359</td>\n",
       "    </tr>\n",
       "    <tr>\n",
       "      <th>full_meals_eaten</th>\n",
       "      <td>0.001280</td>\n",
       "      <td>0.029860</td>\n",
       "      <td>-0.069722</td>\n",
       "      <td>-0.298452</td>\n",
       "      <td>0.244036</td>\n",
       "      <td>-0.406509</td>\n",
       "      <td>-0.471854</td>\n",
       "      <td>0.088201</td>\n",
       "      <td>0.107038</td>\n",
       "      <td>0.187048</td>\n",
       "      <td>0.117461</td>\n",
       "      <td>0.237392</td>\n",
       "      <td>-0.264963</td>\n",
       "      <td>0.504790</td>\n",
       "      <td>0.067575</td>\n",
       "      <td>-0.052858</td>\n",
       "      <td>-0.013100</td>\n",
       "      <td>-0.018513</td>\n",
       "      <td>-0.003782</td>\n",
       "      <td>0.020438</td>\n",
       "      <td>0.004695</td>\n",
       "    </tr>\n",
       "    <tr>\n",
       "      <th>vitD_supp</th>\n",
       "      <td>-0.009403</td>\n",
       "      <td>-0.010117</td>\n",
       "      <td>0.000139</td>\n",
       "      <td>0.001196</td>\n",
       "      <td>0.358567</td>\n",
       "      <td>0.322837</td>\n",
       "      <td>0.504950</td>\n",
       "      <td>-0.118652</td>\n",
       "      <td>-0.195394</td>\n",
       "      <td>-0.004928</td>\n",
       "      <td>-0.287593</td>\n",
       "      <td>0.429435</td>\n",
       "      <td>-0.259799</td>\n",
       "      <td>0.349489</td>\n",
       "      <td>0.037743</td>\n",
       "      <td>0.011306</td>\n",
       "      <td>0.031511</td>\n",
       "      <td>0.015422</td>\n",
       "      <td>-0.000207</td>\n",
       "      <td>0.013665</td>\n",
       "      <td>0.005166</td>\n",
       "    </tr>\n",
       "    <tr>\n",
       "      <th>Complication_RiskClass</th>\n",
       "      <td>0.012459</td>\n",
       "      <td>-0.007663</td>\n",
       "      <td>0.087456</td>\n",
       "      <td>-0.218974</td>\n",
       "      <td>0.498006</td>\n",
       "      <td>0.023913</td>\n",
       "      <td>-0.219267</td>\n",
       "      <td>-0.382003</td>\n",
       "      <td>-0.161390</td>\n",
       "      <td>0.345553</td>\n",
       "      <td>-0.178372</td>\n",
       "      <td>-0.105604</td>\n",
       "      <td>-0.124481</td>\n",
       "      <td>-0.543801</td>\n",
       "      <td>0.007348</td>\n",
       "      <td>0.015111</td>\n",
       "      <td>0.009164</td>\n",
       "      <td>0.018437</td>\n",
       "      <td>0.028090</td>\n",
       "      <td>0.018527</td>\n",
       "      <td>0.011190</td>\n",
       "    </tr>\n",
       "    <tr>\n",
       "      <th>item1</th>\n",
       "      <td>0.454195</td>\n",
       "      <td>0.296731</td>\n",
       "      <td>-0.000474</td>\n",
       "      <td>-0.008414</td>\n",
       "      <td>0.003850</td>\n",
       "      <td>-0.005823</td>\n",
       "      <td>0.018951</td>\n",
       "      <td>0.010984</td>\n",
       "      <td>-0.018094</td>\n",
       "      <td>0.007979</td>\n",
       "      <td>-0.016998</td>\n",
       "      <td>-0.004282</td>\n",
       "      <td>0.002516</td>\n",
       "      <td>0.004414</td>\n",
       "      <td>-0.095230</td>\n",
       "      <td>0.001858</td>\n",
       "      <td>-0.076960</td>\n",
       "      <td>-0.019410</td>\n",
       "      <td>0.078930</td>\n",
       "      <td>0.186937</td>\n",
       "      <td>-0.804852</td>\n",
       "    </tr>\n",
       "    <tr>\n",
       "      <th>item2</th>\n",
       "      <td>0.428028</td>\n",
       "      <td>0.292373</td>\n",
       "      <td>0.011593</td>\n",
       "      <td>0.016931</td>\n",
       "      <td>-0.003285</td>\n",
       "      <td>0.003366</td>\n",
       "      <td>0.018785</td>\n",
       "      <td>0.026690</td>\n",
       "      <td>0.002208</td>\n",
       "      <td>-0.010926</td>\n",
       "      <td>0.000689</td>\n",
       "      <td>0.005906</td>\n",
       "      <td>-0.002784</td>\n",
       "      <td>-0.006235</td>\n",
       "      <td>-0.147078</td>\n",
       "      <td>-0.000814</td>\n",
       "      <td>-0.144184</td>\n",
       "      <td>-0.060050</td>\n",
       "      <td>0.092582</td>\n",
       "      <td>0.622652</td>\n",
       "      <td>0.536005</td>\n",
       "    </tr>\n",
       "    <tr>\n",
       "      <th>item3</th>\n",
       "      <td>0.395270</td>\n",
       "      <td>0.296671</td>\n",
       "      <td>-0.018142</td>\n",
       "      <td>-0.022924</td>\n",
       "      <td>0.020009</td>\n",
       "      <td>-0.012220</td>\n",
       "      <td>0.020247</td>\n",
       "      <td>-0.011939</td>\n",
       "      <td>-0.037360</td>\n",
       "      <td>0.006874</td>\n",
       "      <td>-0.001530</td>\n",
       "      <td>0.015521</td>\n",
       "      <td>-0.017144</td>\n",
       "      <td>-0.006370</td>\n",
       "      <td>-0.201999</td>\n",
       "      <td>0.032359</td>\n",
       "      <td>-0.202395</td>\n",
       "      <td>-0.230253</td>\n",
       "      <td>-0.423618</td>\n",
       "      <td>-0.631346</td>\n",
       "      <td>0.194652</td>\n",
       "    </tr>\n",
       "    <tr>\n",
       "      <th>item4</th>\n",
       "      <td>0.154121</td>\n",
       "      <td>-0.556868</td>\n",
       "      <td>0.021304</td>\n",
       "      <td>0.007995</td>\n",
       "      <td>-0.016032</td>\n",
       "      <td>-0.026528</td>\n",
       "      <td>0.005212</td>\n",
       "      <td>-0.002799</td>\n",
       "      <td>0.010545</td>\n",
       "      <td>0.030506</td>\n",
       "      <td>-0.014314</td>\n",
       "      <td>0.064536</td>\n",
       "      <td>-0.030295</td>\n",
       "      <td>0.007326</td>\n",
       "      <td>-0.355831</td>\n",
       "      <td>-0.003073</td>\n",
       "      <td>-0.373050</td>\n",
       "      <td>-0.386061</td>\n",
       "      <td>0.479682</td>\n",
       "      <td>-0.114896</td>\n",
       "      <td>-0.010825</td>\n",
       "    </tr>\n",
       "    <tr>\n",
       "      <th>item5</th>\n",
       "      <td>-0.191442</td>\n",
       "      <td>0.582459</td>\n",
       "      <td>-0.004523</td>\n",
       "      <td>-0.013284</td>\n",
       "      <td>-0.001559</td>\n",
       "      <td>0.014899</td>\n",
       "      <td>0.013081</td>\n",
       "      <td>-0.004742</td>\n",
       "      <td>0.002081</td>\n",
       "      <td>0.009426</td>\n",
       "      <td>-0.016473</td>\n",
       "      <td>-0.009450</td>\n",
       "      <td>0.053897</td>\n",
       "      <td>0.016370</td>\n",
       "      <td>0.114282</td>\n",
       "      <td>0.024093</td>\n",
       "      <td>0.059448</td>\n",
       "      <td>-0.129721</td>\n",
       "      <td>0.699998</td>\n",
       "      <td>-0.295729</td>\n",
       "      <td>0.091615</td>\n",
       "    </tr>\n",
       "    <tr>\n",
       "      <th>item6</th>\n",
       "      <td>0.409927</td>\n",
       "      <td>-0.162883</td>\n",
       "      <td>-0.007963</td>\n",
       "      <td>0.008062</td>\n",
       "      <td>-0.005549</td>\n",
       "      <td>-0.019225</td>\n",
       "      <td>-0.017267</td>\n",
       "      <td>0.012464</td>\n",
       "      <td>0.011115</td>\n",
       "      <td>-0.012321</td>\n",
       "      <td>-0.010022</td>\n",
       "      <td>0.001752</td>\n",
       "      <td>-0.003675</td>\n",
       "      <td>0.025952</td>\n",
       "      <td>-0.033337</td>\n",
       "      <td>-0.035448</td>\n",
       "      <td>0.045849</td>\n",
       "      <td>0.800568</td>\n",
       "      <td>0.271778</td>\n",
       "      <td>-0.265809</td>\n",
       "      <td>0.116124</td>\n",
       "    </tr>\n",
       "    <tr>\n",
       "      <th>item7</th>\n",
       "      <td>0.356391</td>\n",
       "      <td>-0.170817</td>\n",
       "      <td>-0.002257</td>\n",
       "      <td>0.002053</td>\n",
       "      <td>-0.010396</td>\n",
       "      <td>-0.008937</td>\n",
       "      <td>-0.012628</td>\n",
       "      <td>-0.024649</td>\n",
       "      <td>0.042887</td>\n",
       "      <td>-0.003275</td>\n",
       "      <td>-0.021053</td>\n",
       "      <td>-0.002067</td>\n",
       "      <td>0.031836</td>\n",
       "      <td>0.009453</td>\n",
       "      <td>0.017928</td>\n",
       "      <td>-0.147209</td>\n",
       "      <td>0.836361</td>\n",
       "      <td>-0.325139</td>\n",
       "      <td>0.075917</td>\n",
       "      <td>-0.057051</td>\n",
       "      <td>0.056715</td>\n",
       "    </tr>\n",
       "    <tr>\n",
       "      <th>item8</th>\n",
       "      <td>0.313502</td>\n",
       "      <td>-0.167809</td>\n",
       "      <td>0.009687</td>\n",
       "      <td>-0.005450</td>\n",
       "      <td>-0.019981</td>\n",
       "      <td>0.066011</td>\n",
       "      <td>-0.002476</td>\n",
       "      <td>-0.005962</td>\n",
       "      <td>-0.022958</td>\n",
       "      <td>-0.000974</td>\n",
       "      <td>0.054418</td>\n",
       "      <td>-0.032403</td>\n",
       "      <td>0.044216</td>\n",
       "      <td>-0.002362</td>\n",
       "      <td>0.857201</td>\n",
       "      <td>0.218448</td>\n",
       "      <td>-0.219445</td>\n",
       "      <td>-0.165005</td>\n",
       "      <td>0.042463</td>\n",
       "      <td>-0.035866</td>\n",
       "      <td>0.033918</td>\n",
       "    </tr>\n",
       "  </tbody>\n",
       "</table>\n",
       "</div>"
      ],
      "text/plain": [
       "                             PC1       PC2       PC3       PC4       PC5  \\\n",
       "Lat                     0.008710  0.001053 -0.715304  0.089132  0.063578   \n",
       "Lng                     0.002599 -0.002246  0.260457 -0.608438 -0.272427   \n",
       "Population              0.006047  0.033015  0.626842  0.320697  0.070157   \n",
       "AreaClass              -0.003756 -0.006510  0.074807  0.169639  0.209057   \n",
       "Children                0.000342  0.021292  0.017054  0.257086 -0.077145   \n",
       "Age                    -0.001813  0.006600  0.012650 -0.431315  0.045426   \n",
       "EducationClass          0.003588  0.018282  0.069661  0.033212  0.015963   \n",
       "Income                  0.000572 -0.014397  0.053273  0.140167  0.442562   \n",
       "vitD_levels            -0.004683 -0.043230  0.008210 -0.280384  0.217141   \n",
       "doc_visits              0.010128 -0.011262  0.012482 -0.022288  0.429508   \n",
       "full_meals_eaten        0.001280  0.029860 -0.069722 -0.298452  0.244036   \n",
       "vitD_supp              -0.009403 -0.010117  0.000139  0.001196  0.358567   \n",
       "Complication_RiskClass  0.012459 -0.007663  0.087456 -0.218974  0.498006   \n",
       "item1                   0.454195  0.296731 -0.000474 -0.008414  0.003850   \n",
       "item2                   0.428028  0.292373  0.011593  0.016931 -0.003285   \n",
       "item3                   0.395270  0.296671 -0.018142 -0.022924  0.020009   \n",
       "item4                   0.154121 -0.556868  0.021304  0.007995 -0.016032   \n",
       "item5                  -0.191442  0.582459 -0.004523 -0.013284 -0.001559   \n",
       "item6                   0.409927 -0.162883 -0.007963  0.008062 -0.005549   \n",
       "item7                   0.356391 -0.170817 -0.002257  0.002053 -0.010396   \n",
       "item8                   0.313502 -0.167809  0.009687 -0.005450 -0.019981   \n",
       "\n",
       "                             PC6       PC7       PC8       PC9      PC10  \\\n",
       "Lat                     0.023064  0.018933 -0.010820  0.008821 -0.025137   \n",
       "Lng                     0.331488  0.162968  0.093598 -0.101845  0.207658   \n",
       "Population             -0.168930 -0.079989 -0.123143  0.086470 -0.120919   \n",
       "AreaClass              -0.433032  0.328055  0.303349 -0.330640 -0.140892   \n",
       "Children               -0.081375  0.295094  0.191204  0.479462  0.731753   \n",
       "Age                    -0.280270  0.293836 -0.021883  0.346659 -0.317314   \n",
       "EducationClass          0.375361 -0.337994  0.563164  0.191914 -0.219570   \n",
       "Income                  0.295799 -0.092326  0.319888 -0.161890  0.115785   \n",
       "vitD_levels            -0.219936  0.157065  0.489197 -0.061622  0.058624   \n",
       "doc_visits              0.188729  0.103580 -0.136076  0.613059 -0.254439   \n",
       "full_meals_eaten       -0.406509 -0.471854  0.088201  0.107038  0.187048   \n",
       "vitD_supp               0.322837  0.504950 -0.118652 -0.195394 -0.004928   \n",
       "Complication_RiskClass  0.023913 -0.219267 -0.382003 -0.161390  0.345553   \n",
       "item1                  -0.005823  0.018951  0.010984 -0.018094  0.007979   \n",
       "item2                   0.003366  0.018785  0.026690  0.002208 -0.010926   \n",
       "item3                  -0.012220  0.020247 -0.011939 -0.037360  0.006874   \n",
       "item4                  -0.026528  0.005212 -0.002799  0.010545  0.030506   \n",
       "item5                   0.014899  0.013081 -0.004742  0.002081  0.009426   \n",
       "item6                  -0.019225 -0.017267  0.012464  0.011115 -0.012321   \n",
       "item7                  -0.008937 -0.012628 -0.024649  0.042887 -0.003275   \n",
       "item8                   0.066011 -0.002476 -0.005962 -0.022958 -0.000974   \n",
       "\n",
       "                            PC11      PC12      PC13      PC14      PC15  \\\n",
       "Lat                    -0.046676 -0.031378 -0.015550 -0.104309  0.133992   \n",
       "Lng                     0.234163 -0.219840 -0.160611  0.074451  0.030929   \n",
       "Population             -0.166893  0.093817  0.095939  0.039763  0.138927   \n",
       "AreaClass               0.293219 -0.267200 -0.467227 -0.156312  0.036233   \n",
       "Children                0.014675  0.090312 -0.098558 -0.105946  0.035517   \n",
       "Age                     0.171944  0.479808  0.131720 -0.382259  0.037549   \n",
       "EducationClass         -0.244786  0.164775 -0.406515 -0.286412  0.020758   \n",
       "Income                  0.547727  0.188573  0.447680 -0.016580 -0.047426   \n",
       "vitD_levels            -0.539932 -0.255511  0.434064  0.078571  0.012876   \n",
       "doc_visits              0.123814 -0.496581 -0.070714  0.194605 -0.038822   \n",
       "full_meals_eaten        0.117461  0.237392 -0.264963  0.504790  0.067575   \n",
       "vitD_supp              -0.287593  0.429435 -0.259799  0.349489  0.037743   \n",
       "Complication_RiskClass -0.178372 -0.105604 -0.124481 -0.543801  0.007348   \n",
       "item1                  -0.016998 -0.004282  0.002516  0.004414 -0.095230   \n",
       "item2                   0.000689  0.005906 -0.002784 -0.006235 -0.147078   \n",
       "item3                  -0.001530  0.015521 -0.017144 -0.006370 -0.201999   \n",
       "item4                  -0.014314  0.064536 -0.030295  0.007326 -0.355831   \n",
       "item5                  -0.016473 -0.009450  0.053897  0.016370  0.114282   \n",
       "item6                  -0.010022  0.001752 -0.003675  0.025952 -0.033337   \n",
       "item7                  -0.021053 -0.002067  0.031836  0.009453  0.017928   \n",
       "item8                   0.054418 -0.032403  0.044216 -0.002362  0.857201   \n",
       "\n",
       "                            PC16      PC17      PC18      PC19      PC20  \\\n",
       "Lat                    -0.650974 -0.133362 -0.026892  0.006185 -0.001673   \n",
       "Lng                    -0.388987 -0.046552  0.002728  0.002656 -0.005874   \n",
       "Population             -0.584990 -0.124561 -0.014956 -0.025620 -0.024772   \n",
       "AreaClass              -0.019687  0.038498 -0.018012  0.041316 -0.014478   \n",
       "Children                0.009271  0.004108  0.015960 -0.023305 -0.011490   \n",
       "Age                    -0.021324 -0.007574  0.014935 -0.000580  0.003647   \n",
       "EducationClass          0.002741  0.011695 -0.016983  0.007690 -0.027596   \n",
       "Income                 -0.068693  0.009955  0.004439  0.001627 -0.008345   \n",
       "vitD_levels            -0.005532 -0.021044 -0.009326 -0.019313  0.003196   \n",
       "doc_visits              0.039824 -0.030246 -0.014396  0.005778 -0.010675   \n",
       "full_meals_eaten       -0.052858 -0.013100 -0.018513 -0.003782  0.020438   \n",
       "vitD_supp               0.011306  0.031511  0.015422 -0.000207  0.013665   \n",
       "Complication_RiskClass  0.015111  0.009164  0.018437  0.028090  0.018527   \n",
       "item1                   0.001858 -0.076960 -0.019410  0.078930  0.186937   \n",
       "item2                  -0.000814 -0.144184 -0.060050  0.092582  0.622652   \n",
       "item3                   0.032359 -0.202395 -0.230253 -0.423618 -0.631346   \n",
       "item4                  -0.003073 -0.373050 -0.386061  0.479682 -0.114896   \n",
       "item5                   0.024093  0.059448 -0.129721  0.699998 -0.295729   \n",
       "item6                  -0.035448  0.045849  0.800568  0.271778 -0.265809   \n",
       "item7                  -0.147209  0.836361 -0.325139  0.075917 -0.057051   \n",
       "item8                   0.218448 -0.219445 -0.165005  0.042463 -0.035866   \n",
       "\n",
       "                            PC21  \n",
       "Lat                     0.001575  \n",
       "Lng                     0.007462  \n",
       "Population             -0.003525  \n",
       "AreaClass               0.001717  \n",
       "Children                0.000006  \n",
       "Age                    -0.007368  \n",
       "EducationClass         -0.008389  \n",
       "Income                 -0.008173  \n",
       "vitD_levels             0.013416  \n",
       "doc_visits             -0.006359  \n",
       "full_meals_eaten        0.004695  \n",
       "vitD_supp               0.005166  \n",
       "Complication_RiskClass  0.011190  \n",
       "item1                  -0.804852  \n",
       "item2                   0.536005  \n",
       "item3                   0.194652  \n",
       "item4                  -0.010825  \n",
       "item5                   0.091615  \n",
       "item6                   0.116124  \n",
       "item7                   0.056715  \n",
       "item8                   0.033918  "
      ]
     },
     "execution_count": 72,
     "metadata": {},
     "output_type": "execute_result"
    }
   ],
   "source": [
    "# Output loadings\n",
    "loadings = pd.DataFrame(pca.components_.T\n",
    "                        , columns=['PC1','PC2','PC3','PC4','PC5','PC6','PC7','PC8','PC9'\n",
    "                                   ,'PC10','PC11','PC12','PC13','PC14','PC15','PC16','PC17'\n",
    "                                   ,'PC18','PC19','PC20','PC21']\n",
    "                        , index=dfMedForPCA.columns)\n",
    "loadings"
   ]
  },
  {
   "cell_type": "markdown",
   "metadata": {},
   "source": [
    "##### Conclusion\n",
    "Based on the eigenvalues (above 1), we should use 9 groupings of the principal components.  The fields that have the strongest affect on the 9th grouping the are the following -\n",
    "\n",
    "- doc_visits: 0.6131\n",
    "- Children: 0.4795\n",
    "- Age: 0.3467"
   ]
  },
  {
   "cell_type": "markdown",
   "metadata": {},
   "source": [
    "This PCA analysis will help us optimize the performance while retaining the most important groupings, and increase accruracy."
   ]
  },
  {
   "cell_type": "markdown",
   "metadata": {},
   "source": [
    "### Part IV. Supporting Documents \n",
    "\n",
    "#### References"
   ]
  },
  {
   "cell_type": "markdown",
   "metadata": {},
   "source": [
    "[Google Search for Average Number of Children per Household](https://www.google.com/search?q=average+number+of+children+per+family+usa&oq=av&aqs=chrome.0.35i39j0i67j69i57j35i39j0i67i457j0i67j69i61l2.965j0j7&sourceid=chrome&ie=UTF-8)\n",
    "    "
   ]
  },
  {
   "cell_type": "markdown",
   "metadata": {},
   "source": [
    "[Google Search for Average Soda Consumption per Day](https://www.google.com/search?q=average+soda+consumption+per+day&oq=average+sodas+consu&aqs=chrome.2.69i57j0i22i30i457j0i22i30l5.7469j0j7&sourceid=chrome&ie=UTF-8)"
   ]
  },
  {
   "cell_type": "markdown",
   "metadata": {},
   "source": [
    "[Google Search for Rate of Anxiety](https://www.google.com/search?sxsrf=ALeKk02TGMr-loUSVlNpJVRnThfn1V7Yyg%3A1606670279029&ei=x9fDX8OiAdHR5gKOnpqIBg&q=how+many+americans+have+anxiety&oq=how+many+americans+have+anxi&gs_lcp=CgZwc3ktYWIQAxgAMgUIABDJAzoECAAQRzoICAAQsQMQyQM6BQgAELEDOgIIADoECAAQQ1CJgRhY8pUYYISfGGgBcAN4AIABkQGIAdUGkgEDOS4xmAEAoAEBqgEHZ3dzLXdpesgBCMABAQ&sclient=psy-ab)"
   ]
  },
  {
   "cell_type": "markdown",
   "metadata": {},
   "source": [
    "[Stack Overflow Discussion on PCA for Categorical Values](https://stackoverflow.com/questions/40795141/pca-for-categorical-features)"
   ]
  },
  {
   "cell_type": "markdown",
   "metadata": {},
   "source": [
    "[UCertify Course D206 for Data Cleaning](https://wgu.ucertify.com/?func=load_course&course=WGU-D206)"
   ]
  }
 ],
 "metadata": {
  "kernelspec": {
   "display_name": "Python 3",
   "language": "python",
   "name": "python3"
  },
  "language_info": {
   "codemirror_mode": {
    "name": "ipython",
    "version": 3
   },
   "file_extension": ".py",
   "mimetype": "text/x-python",
   "name": "python",
   "nbconvert_exporter": "python",
   "pygments_lexer": "ipython3",
   "version": "3.8.5"
  }
 },
 "nbformat": 4,
 "nbformat_minor": 4
}
